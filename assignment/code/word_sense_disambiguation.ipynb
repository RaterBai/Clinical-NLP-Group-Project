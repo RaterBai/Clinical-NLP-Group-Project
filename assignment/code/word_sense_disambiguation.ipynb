{
 "cells": [
  {
   "cell_type": "code",
   "execution_count": 3,
   "metadata": {
    "ExecuteTime": {
     "end_time": "2021-03-22T22:03:12.031674Z",
     "start_time": "2021-03-22T22:03:10.282311Z"
    }
   },
   "outputs": [],
   "source": [
    "import pandas as pd\n",
    "import numpy as np\n",
    "import string\n",
    "import re\n",
    "\n",
    "from nltk.tokenize import word_tokenize, sent_tokenize"
   ]
  },
  {
   "cell_type": "code",
   "execution_count": 4,
   "metadata": {
    "ExecuteTime": {
     "end_time": "2021-03-22T22:03:12.035427Z",
     "start_time": "2021-03-22T22:03:12.033351Z"
    }
   },
   "outputs": [],
   "source": [
    "path = './../data/'"
   ]
  },
  {
   "cell_type": "code",
   "execution_count": 5,
   "metadata": {
    "ExecuteTime": {
     "end_time": "2021-03-22T22:03:12.358598Z",
     "start_time": "2021-03-22T22:03:12.122928Z"
    }
   },
   "outputs": [],
   "source": [
    "data = pd.read_csv(f\"{path}AnonymizedClinicalAbbreviationsAndAcronymsDataSet.txt\", \n",
    "                   encoding='cp1252', \n",
    "                   sep=\"|\", \n",
    "                   header=None,\n",
    "                   na_filter=False)\n",
    "data.columns = [\"abbrev\", \"sense\", \"represntaion\", \"start_pos\", \"end_pos\", \"section_info\", \"sample\"]"
   ]
  },
  {
   "cell_type": "code",
   "execution_count": 6,
   "metadata": {
    "ExecuteTime": {
     "end_time": "2021-03-22T22:03:12.641760Z",
     "start_time": "2021-03-22T22:03:12.620454Z"
    }
   },
   "outputs": [
    {
     "data": {
      "text/html": [
       "<div>\n",
       "<style scoped>\n",
       "    .dataframe tbody tr th:only-of-type {\n",
       "        vertical-align: middle;\n",
       "    }\n",
       "\n",
       "    .dataframe tbody tr th {\n",
       "        vertical-align: top;\n",
       "    }\n",
       "\n",
       "    .dataframe thead th {\n",
       "        text-align: right;\n",
       "    }\n",
       "</style>\n",
       "<table border=\"1\" class=\"dataframe\">\n",
       "  <thead>\n",
       "    <tr style=\"text-align: right;\">\n",
       "      <th></th>\n",
       "      <th>abbrev</th>\n",
       "      <th>sense</th>\n",
       "      <th>represntaion</th>\n",
       "      <th>start_pos</th>\n",
       "      <th>end_pos</th>\n",
       "      <th>section_info</th>\n",
       "      <th>sample</th>\n",
       "    </tr>\n",
       "  </thead>\n",
       "  <tbody>\n",
       "    <tr>\n",
       "      <th>0</th>\n",
       "      <td>AB</td>\n",
       "      <td>abortion</td>\n",
       "      <td>AB.</td>\n",
       "      <td>231</td>\n",
       "      <td>233</td>\n",
       "      <td></td>\n",
       "      <td>_%#NAME#%_ _%#NAME#%_ is a 29-year-old gravida...</td>\n",
       "    </tr>\n",
       "    <tr>\n",
       "      <th>1</th>\n",
       "      <td>AB</td>\n",
       "      <td>abortion</td>\n",
       "      <td>AB.</td>\n",
       "      <td>249</td>\n",
       "      <td>251</td>\n",
       "      <td></td>\n",
       "      <td>She is now bleeding quite heavily. Ultrasound ...</td>\n",
       "    </tr>\n",
       "    <tr>\n",
       "      <th>2</th>\n",
       "      <td>AB</td>\n",
       "      <td>abortion</td>\n",
       "      <td>AB</td>\n",
       "      <td>223</td>\n",
       "      <td>224</td>\n",
       "      <td>PAST OB HISTORY</td>\n",
       "      <td>ALLERGIES: Heparin and Imitrex. PAST OB HISTOR...</td>\n",
       "    </tr>\n",
       "    <tr>\n",
       "      <th>3</th>\n",
       "      <td>AB</td>\n",
       "      <td>abortion</td>\n",
       "      <td>AB.</td>\n",
       "      <td>194</td>\n",
       "      <td>196</td>\n",
       "      <td>HISTORY OF THE PRESENT ILLNESS</td>\n",
       "      <td>She had a pelvic ultrasound at Park Nicollet o...</td>\n",
       "    </tr>\n",
       "    <tr>\n",
       "      <th>4</th>\n",
       "      <td>AB</td>\n",
       "      <td>abortion</td>\n",
       "      <td>AB</td>\n",
       "      <td>114</td>\n",
       "      <td>115</td>\n",
       "      <td>PAST OB-GYN HISTORY</td>\n",
       "      <td>On _%#MMDD2007#%_, normal anatomy with anterio...</td>\n",
       "    </tr>\n",
       "  </tbody>\n",
       "</table>\n",
       "</div>"
      ],
      "text/plain": [
       "  abbrev     sense represntaion start_pos end_pos  \\\n",
       "0     AB  abortion          AB.       231     233   \n",
       "1     AB  abortion          AB.       249     251   \n",
       "2     AB  abortion           AB       223     224   \n",
       "3     AB  abortion          AB.       194     196   \n",
       "4     AB  abortion           AB       114     115   \n",
       "\n",
       "                     section_info  \\\n",
       "0                                   \n",
       "1                                   \n",
       "2                 PAST OB HISTORY   \n",
       "3  HISTORY OF THE PRESENT ILLNESS   \n",
       "4             PAST OB-GYN HISTORY   \n",
       "\n",
       "                                              sample  \n",
       "0  _%#NAME#%_ _%#NAME#%_ is a 29-year-old gravida...  \n",
       "1  She is now bleeding quite heavily. Ultrasound ...  \n",
       "2  ALLERGIES: Heparin and Imitrex. PAST OB HISTOR...  \n",
       "3  She had a pelvic ultrasound at Park Nicollet o...  \n",
       "4  On _%#MMDD2007#%_, normal anatomy with anterio...  "
      ]
     },
     "execution_count": 6,
     "metadata": {},
     "output_type": "execute_result"
    }
   ],
   "source": [
    "data.head()"
   ]
  },
  {
   "cell_type": "code",
   "execution_count": 7,
   "metadata": {
    "ExecuteTime": {
     "end_time": "2021-03-22T22:03:14.107625Z",
     "start_time": "2021-03-22T22:03:14.091344Z"
    }
   },
   "outputs": [],
   "source": [
    "unique_abbrev = np.unique(data.abbrev)"
   ]
  },
  {
   "cell_type": "code",
   "execution_count": 8,
   "metadata": {
    "ExecuteTime": {
     "end_time": "2021-03-22T22:03:15.796525Z",
     "start_time": "2021-03-22T22:03:15.794304Z"
    }
   },
   "outputs": [],
   "source": [
    "empty_dict = dict.fromkeys(['abbrev','number_sense'])"
   ]
  },
  {
   "cell_type": "code",
   "execution_count": 9,
   "metadata": {
    "ExecuteTime": {
     "end_time": "2021-03-22T22:03:18.145050Z",
     "start_time": "2021-03-22T22:03:17.002416Z"
    }
   },
   "outputs": [],
   "source": [
    "abbrev_freq = pd.DataFrame(columns=[\"abbrev\", \"number_sense\", \"sense\", \"freq\", \"percentage\"])\n",
    "#abbrev_freq_dict = dict.fromkeys(['abbrev','number_sense'])\n",
    "\n",
    "count_list = []\n",
    "for abbrev in unique_abbrev:\n",
    "    piece = data.loc[data.abbrev == abbrev]\n",
    "    senses = np.unique(piece.sense)\n",
    "    count = len(np.unique(piece.sense))\n",
    "    for sense in senses:\n",
    "        count_sense = piece.loc[piece.sense == sense].shape[0]\n",
    "        percentage = count_sense/piece.shape[0]\n",
    "        new = pd.DataFrame({\"abbrev\" : [abbrev],\n",
    "                            \"number_sense\" : [count],\n",
    "                            \"sense\" : [sense],\n",
    "                            \"freq\" : [count_sense],\n",
    "                            \"percentage\" : [percentage]})\n",
    "        \n",
    "        abbrev_freq = pd.concat([abbrev_freq, new])\n",
    "    #count_list.append(count)\n",
    "    \n",
    "#abbrev_freq = pd.DataFrame({\"abbrev\" : unique_abbrev, \"number_sense\" : count_list})"
   ]
  },
  {
   "cell_type": "code",
   "execution_count": 10,
   "metadata": {
    "ExecuteTime": {
     "end_time": "2021-03-22T22:03:18.150214Z",
     "start_time": "2021-03-22T22:03:18.146543Z"
    }
   },
   "outputs": [
    {
     "data": {
      "text/plain": [
       "array(['AB', 'AC', 'ALD', 'AMA', 'ASA', 'AV', 'AVR', 'BAL', 'BK', 'BM',\n",
       "       'BMP', 'C&S', 'C3', 'C4', 'CA', 'CDI', 'CEA', 'CR', 'CTA', 'CVA',\n",
       "       'CVP', 'CVS', 'DC', 'DIP', 'DM', 'DT', 'EC', 'ER', 'ES', 'ET',\n",
       "       'FISH', 'FSH', 'GT', 'IA', 'IB', 'IM', 'IR', 'IT', 'ITP', 'IVF',\n",
       "       'LA', 'LE', 'MOM', 'MP', 'MR', 'MS', 'MSSA', 'NA', 'NAD', 'NP',\n",
       "       'OP', 'OR', 'OTC', 'PA', 'PAC', 'PCP', 'PD', 'PDA', 'PE', 'PM',\n",
       "       'PR', 'PT', 'RA', 'RT', 'SA', 'SBP', 'SMA', 'SS', 'T1', 'T2', 'T3',\n",
       "       'T4', 'US', 'VAD', 'VBG'], dtype=object)"
      ]
     },
     "execution_count": 10,
     "metadata": {},
     "output_type": "execute_result"
    }
   ],
   "source": [
    "np.unique(abbrev_freq.abbrev)"
   ]
  },
  {
   "cell_type": "code",
   "execution_count": 11,
   "metadata": {
    "ExecuteTime": {
     "end_time": "2021-03-22T22:03:18.891106Z",
     "start_time": "2021-03-22T22:03:18.882574Z"
    }
   },
   "outputs": [
    {
     "data": {
      "text/html": [
       "<div>\n",
       "<style scoped>\n",
       "    .dataframe tbody tr th:only-of-type {\n",
       "        vertical-align: middle;\n",
       "    }\n",
       "\n",
       "    .dataframe tbody tr th {\n",
       "        vertical-align: top;\n",
       "    }\n",
       "\n",
       "    .dataframe thead th {\n",
       "        text-align: right;\n",
       "    }\n",
       "</style>\n",
       "<table border=\"1\" class=\"dataframe\">\n",
       "  <thead>\n",
       "    <tr style=\"text-align: right;\">\n",
       "      <th></th>\n",
       "      <th>abbrev</th>\n",
       "      <th>number_sense</th>\n",
       "      <th>sense</th>\n",
       "      <th>freq</th>\n",
       "      <th>percentage</th>\n",
       "    </tr>\n",
       "  </thead>\n",
       "  <tbody>\n",
       "    <tr>\n",
       "      <th>0</th>\n",
       "      <td>AMA</td>\n",
       "      <td>3</td>\n",
       "      <td>advanced maternal age</td>\n",
       "      <td>31</td>\n",
       "      <td>0.062</td>\n",
       "    </tr>\n",
       "    <tr>\n",
       "      <th>0</th>\n",
       "      <td>AMA</td>\n",
       "      <td>3</td>\n",
       "      <td>against medical advice</td>\n",
       "      <td>444</td>\n",
       "      <td>0.888</td>\n",
       "    </tr>\n",
       "    <tr>\n",
       "      <th>0</th>\n",
       "      <td>AMA</td>\n",
       "      <td>3</td>\n",
       "      <td>antimitochondrial antibody</td>\n",
       "      <td>25</td>\n",
       "      <td>0.050</td>\n",
       "    </tr>\n",
       "  </tbody>\n",
       "</table>\n",
       "</div>"
      ],
      "text/plain": [
       "  abbrev number_sense                       sense freq  percentage\n",
       "0    AMA            3       advanced maternal age   31       0.062\n",
       "0    AMA            3      against medical advice  444       0.888\n",
       "0    AMA            3  antimitochondrial antibody   25       0.050"
      ]
     },
     "execution_count": 11,
     "metadata": {},
     "output_type": "execute_result"
    }
   ],
   "source": [
    "abbrev_freq.loc[abbrev_freq.abbrev == \"AMA\"]"
   ]
  },
  {
   "cell_type": "code",
   "execution_count": 12,
   "metadata": {
    "ExecuteTime": {
     "end_time": "2021-03-22T22:03:19.996230Z",
     "start_time": "2021-03-22T22:03:19.994630Z"
    }
   },
   "outputs": [],
   "source": [
    "# feature extraction\n",
    "# if select AC"
   ]
  },
  {
   "cell_type": "code",
   "execution_count": 13,
   "metadata": {
    "ExecuteTime": {
     "end_time": "2021-03-22T22:03:21.460213Z",
     "start_time": "2021-03-22T22:03:21.434804Z"
    }
   },
   "outputs": [],
   "source": [
    "def derive_features(abbrev, window_size, replace = True):  # replace = True, replace numbers with zero\n",
    "    samples = data.loc[data.abbrev == abbrev, ]\n",
    "    sample_num = 1\n",
    "    \n",
    "    original_features = pd.DataFrame(columns=[\"id\", \"features\", \"sense\"])\n",
    "    direction_features = pd.DataFrame(columns=[\"id\", \"features\", \"sense\"])\n",
    "    direction_num_features = pd.DataFrame(columns=[\"id\", \"features\", \"sense\"])\n",
    "    \n",
    "    for i in range(samples.shape[0]):  # for each data point\n",
    "        sentence_num = 1\n",
    "        #target_word = samples.iloc[i, 2]  # should avoid using this, as word tokenization would split AC. to AC ., etc.\n",
    "        #target_word = abbrev\n",
    "        \n",
    "        text = samples.iloc[i, 6]\n",
    "        id = i+1  # this is the row number of selected abbreviation\n",
    "        sense = samples.iloc[i, 1]\n",
    "        \n",
    "        target_word = samples.iloc[i, 2]\n",
    "        sentence_length = 0\n",
    "        start_pos = int(samples.iloc[i, 3])\n",
    "        end_pos = int(samples.iloc[i, 4])\n",
    "        \n",
    "        target_word = text[start_pos : end_pos+1]\n",
    "        detect = True\n",
    "        #print(target_word)\n",
    "        # sentence boundary\n",
    "        # one sample can have multiple abbreviations in different sentences.\n",
    "        # before sentence boundary, replace all the numbers with 0 \n",
    "        #print(text)\n",
    "        \n",
    "        \n",
    "        #if replace:\n",
    "        #    text = re.sub(\"\\d+\", \"0\", text)\n",
    "        #    text = re.sub(\"\\d+\\.\\d+\", \"0\", text)\n",
    "\n",
    "        sents = sent_tokenize(text)\n",
    "        exclude = set(string.punctuation)\n",
    "        #s = ''.join(ch for ch in s if ch not in exclude)\n",
    "        for sent in sents:  # for each sentence\n",
    "            #words = [token.lower() for token in word_tokenize(sent)] # word tokenization\n",
    "            # remove punctuations from the words list\n",
    "            sentence_length += (len(sent)+1)\n",
    "            words = [word for word in word_tokenize(sent) if word not in string.punctuation]\n",
    "            \n",
    "#             print(id, \"____________________\")\n",
    "#             print(sent)\n",
    "#             print(words)\n",
    "#             print(target_word)\n",
    "#             print(sentence_length, end_pos)\n",
    "            if sentence_length >= end_pos and (abbrev in words or target_word in words) and detect:\n",
    "                #print(words)\n",
    "                #print(sent)\n",
    "                detect = False\n",
    "                left_features = []\n",
    "                right_features = []\n",
    "                \n",
    "                left_features_direction = []\n",
    "                right_features_direction = []\n",
    "                \n",
    "                left_features_direction_num = []\n",
    "                right_features_direction_num = []\n",
    "                \n",
    "                index = words.index(abbrev)\n",
    "                # find the targeted word\n",
    "                # 1. See if the window-size exceeds the front and back limit\n",
    "                    # If yes, start from the zero-th element, towards right till find the target (features on the left)\n",
    "                            # start from the max-th element, towards left till find the target (features on the right)\n",
    "                    # If no, start from the (index - 5)-th element, towards right till find the target\n",
    "                           # start from the (index - 5)-th element, towards left till find the target\n",
    "                        \n",
    "                # extract features on the left\n",
    "                if index - window_size < 0:\n",
    "                    j = 0\n",
    "                    starting = index\n",
    "                    #while words[j] != target_word:\n",
    "                    while words[j] != abbrev:\n",
    "                        words[j] = ''.join(ch for ch in words[j] if ch not in exclude)\n",
    "                        if replace:\n",
    "                            words[j] = re.sub(\"\\d+\", \"0\", words[j])\n",
    "                            words[j] = re.sub(\"\\d+\\.\\d+\", \"0\", words[j])\n",
    "                        # remove punctuation from the word, meant to fix problem in word tokenization\n",
    "                        # but may cause problem, e.g. p.r.n --> prn\n",
    "                        # may remove later\n",
    "                        \n",
    "                        left_features.append(words[j].lower())\n",
    "                        left_features_direction.append(\"L-\" + words[j].lower())\n",
    "                        left_features_direction_num.append(\"L\" + str(starting) + \"-\" + words[j].lower())\n",
    "                        j += 1\n",
    "                        starting -= 1\n",
    "                else:\n",
    "                    j = index-window_size\n",
    "                    starting = 0\n",
    "                    for k in range(window_size):\n",
    "                        words[j] = ''.join(ch for ch in words[j] if ch not in exclude)\n",
    "                        if replace:\n",
    "                            words[j] = re.sub(\"\\d+\", \"0\", words[j])\n",
    "                            words[j] = re.sub(\"\\d+\\.\\d+\", \"0\", words[j])\n",
    "                        left_features.append(words[j].lower())\n",
    "                        left_features_direction.append(\"L-\" + words[j].lower())\n",
    "                        left_features_direction_num.append(\"L\" + str(window_size-starting) + \"-\" + words[j].lower())\n",
    "                        j += 1\n",
    "                        starting += 1\n",
    "                \n",
    "                # extract feature on the right\n",
    "                if index + window_size >= len(words):\n",
    "                    #j = len(words)-1\n",
    "                    j = index+1\n",
    "                    starting = 1\n",
    "                    while j != len(words):\n",
    "                        words[j] = ''.join(ch for ch in words[j] if ch not in exclude)\n",
    "                        if replace:\n",
    "                            words[j] = re.sub(\"\\d+\", \"0\", words[j])\n",
    "                            words[j] = re.sub(\"\\d+\\.\\d+\", \"0\", words[j])\n",
    "                        right_features.append(words[j].lower())\n",
    "                        right_features_direction.append(\"R-\" + words[j].lower())\n",
    "                        right_features_direction_num.append(\"R\" + str(starting) + \"-\" + words[j].lower())\n",
    "                        j += 1\n",
    "                        starting += 1\n",
    "                else: \n",
    "                    j = index+1\n",
    "                    starting = 1\n",
    "                    for k in range(window_size):\n",
    "                        words[j] = ''.join(ch for ch in words[j] if ch not in exclude)\n",
    "                        if replace:\n",
    "                            words[j] = re.sub(\"\\d+\", \"0\", words[j])\n",
    "                            words[j] = re.sub(\"\\d+\\.\\d+\", \"0\", words[j])\n",
    "                        right_features.append(words[j].lower())\n",
    "                        right_features_direction.append(\"R-\" + words[j].lower())\n",
    "                        right_features_direction_num.append(\"R\" + str(starting) + \"-\" + words[j].lower())\n",
    "                        j += 1\n",
    "                        starting += 1\n",
    "                   \n",
    "                left_features_str = \" \".join(left_features)\n",
    "                right_features_str = \" \".join(right_features)\n",
    "                features = left_features_str + \" \" + right_features_str\n",
    "                \n",
    "#                 print(features)\n",
    "                \n",
    "                left_features_direction_str = \" \".join(left_features_direction)\n",
    "                right_features_direction_str = \" \".join(right_features_direction)\n",
    "                features_direction = left_features_direction_str + \" \" + right_features_direction_str\n",
    "                \n",
    "                left_features_direction_num_str = \" \".join(left_features_direction_num)\n",
    "                right_features_direction_num_str = \" \".join(right_features_direction_num)\n",
    "                features_direction_num = left_features_direction_num_str + \" \" + right_features_direction_num_str\n",
    "                #print(features_direction_num)\n",
    "                \n",
    "#                 if replace:\n",
    "#                     features = re.sub(\"\\d+\", \"0\", features)\n",
    "#                     features = re.sub(\"\\d+\\.\\d+\", \"0\", features)\n",
    "                    \n",
    "#                     features_direction = re.sub(\"\\d+\", \"0\", features_direction)\n",
    "#                     features_direction = re.sub(\"\\d+\\.\\d+\", \"0\", features_direction)\n",
    "                    \n",
    "#                     features_direction_num = features_direction_num+re.sub(\"\\d+\", \"0\", features_direction_num)\n",
    "#                     features_direction_num = features_direction_num+re.sub(\"\\d+\\.\\d+\", \"0\", features_direction_num)\n",
    "#                     print(features_direction_num)\n",
    "                original_features = pd.concat([original_features, pd.DataFrame({\"id\" : [id],\n",
    "                                                                               \"features\" : [features], \n",
    "                                                                               \"sense\" : [sense]})])\n",
    "                \n",
    "                direction_features = pd.concat([direction_features, pd.DataFrame({\"id\" : [id],\n",
    "                                                                               \"features\" : [features_direction], \n",
    "                                                                               \"sense\" : [sense]})])\n",
    "                \n",
    "                direction_num_features = pd.concat([direction_num_features, pd.DataFrame({\"id\" : [id],\n",
    "                                                                               \"features\" : [features_direction_num], \n",
    "                                                                               \"sense\" : [sense]})])\n",
    "            sentence_num += 1\n",
    "        sample_num += 1\n",
    "    return([original_features, direction_features, direction_num_features])\n",
    "                "
   ]
  },
  {
   "cell_type": "code",
   "execution_count": 21,
   "metadata": {
    "ExecuteTime": {
     "end_time": "2021-03-22T22:11:38.942533Z",
     "start_time": "2021-03-22T22:11:36.574492Z"
    }
   },
   "outputs": [],
   "source": [
    "ar1, br1, cr1 = derive_features('AMA', 5, replace=True)"
   ]
  },
  {
   "cell_type": "markdown",
   "metadata": {},
   "source": [
    "# ONE-HOT"
   ]
  },
  {
   "cell_type": "code",
   "execution_count": 25,
   "metadata": {
    "ExecuteTime": {
     "end_time": "2021-03-23T21:25:00.098286Z",
     "start_time": "2021-03-23T21:25:00.077010Z"
    }
   },
   "outputs": [],
   "source": [
    "def one_hot_features(abbrev, window_size, replace = True):\n",
    "    ar1, br1, cr1 = derive_features(abbrev, window_size, replace = True)\n",
    "    one_hot_vector=[]\n",
    "    for k in cr1['features'].values:\n",
    "        features_direction_num= [item for item in k.split(' ') if item !='']\n",
    "        one_hot_vector=one_hot_vector+features_direction_num\n",
    "    for k in ar1['features'].values:\n",
    "        features= [item for item in k.split(' ') if item !='']\n",
    "        one_hot_vector=one_hot_vector+features\n",
    "    for k in br1['features'].values:\n",
    "        features_num= [item for item in k.split(' ') if item !='']\n",
    "        one_hot_vector=one_hot_vector+features_num\n",
    "    one_hot_vector=sorted(list(set(one_hot_vector)))\n",
    "    char_to_int = dict((c, i) for i, c in enumerate(one_hot_vector))\n",
    "    \n",
    "    onehot_encoded = list()\n",
    "    for k in cr1['features'].values:\n",
    "        features_direction_num= [item for item in k.split(' ') if item !='']\n",
    "        integer_encoded = [char_to_int[char] for char in features_direction_num]\n",
    "        letter = [0 for _ in range(len(char_to_int))]\n",
    "        for value in integer_encoded:\n",
    "            letter[value] = 1\n",
    "        onehot_encoded.append(letter)\n",
    "    for k,v in enumerate(ar1['features'].values):\n",
    "        features= [item for item in v.split(' ') if item !='']\n",
    "        integer_encoded = [char_to_int[char] for char in features]\n",
    "        for value in integer_encoded:\n",
    "            onehot_encoded[k][value] = 1\n",
    "    for k,v in enumerate(br1['features'].values):\n",
    "        features_num= [item for item in v.split(' ') if item !='']\n",
    "        integer_encoded = [char_to_int[char] for char in features_num]\n",
    "        for value in integer_encoded:\n",
    "            onehot_encoded[k][value] = 1\n",
    "    onehot_encoded=np.array(onehot_encoded)\n",
    "    return onehot_encoded,one_hot_vector"
   ]
  },
  {
   "cell_type": "code",
   "execution_count": 59,
   "metadata": {},
   "outputs": [],
   "source": [
    "# one hot features for single features\n",
    "def one_hot_features_single(abbrev, window_size, feature_no = 1, replace = True):\n",
    "    # feature_no = 1: original features\n",
    "    # feature_no = 2: directional features\n",
    "    # feature_no = 3: directional features with number\n",
    "    \n",
    "    ar1, br1, cr1 = derive_features(abbrev, window_size, replace = True)\n",
    "    one_hot_vector=[]\n",
    "\n",
    "    if feature_no == 1:\n",
    "        feature_used = ar1.copy()\n",
    "    elif feature_no == 2:\n",
    "        feature_used = br1.copy()\n",
    "    elif feature_no == 3:\n",
    "        feature_used = cr1.copy()\n",
    "    else:\n",
    "        print(\"Error input: [feature_no]!\")\n",
    "    \n",
    "    for k in feature_used[\"features\"].values:\n",
    "        features= [item for item in k.split(' ') if item !='']\n",
    "        one_hot_vector=one_hot_vector+features\n",
    "        \n",
    "    one_hot_vector=sorted(list(set(one_hot_vector)))\n",
    "    char_to_int = dict((c, i) for i, c in enumerate(one_hot_vector))\n",
    "    \n",
    "    onehot_encoded = list()\n",
    "    for k in feature_used[\"features\"].values:\n",
    "        features_direction_num= [item for item in k.split(' ') if item !='']\n",
    "        integer_encoded = [char_to_int[char] for char in features_direction_num]\n",
    "        letter = [0 for _ in range(len(char_to_int))]\n",
    "        for value in integer_encoded:\n",
    "            letter[value] = 1\n",
    "        onehot_encoded.append(letter)\n",
    "    \n",
    "    onehot_encoded=np.array(onehot_encoded)\n",
    "    \n",
    "    return onehot_encoded,one_hot_vector"
   ]
  },
  {
   "cell_type": "code",
   "execution_count": 1,
   "metadata": {
    "ExecuteTime": {
     "end_time": "2021-03-22T21:55:52.245585Z",
     "start_time": "2021-03-22T21:55:52.235037Z"
    }
   },
   "outputs": [],
   "source": [
    "# one hot features for two features(one feature,two feature and three feature can use same function, not change that as others have finished)\n",
    "def one_hot_features_double(abbrev, window_size, feature_no = 1,feature_no_2 = 2, replace = True):\n",
    "    # feature_no = 1: original features\n",
    "    # feature_no = 2: directional features\n",
    "    # feature_no = 3: directional features with number\n",
    "    \n",
    "    ar1, br1, cr1 = derive_features(abbrev, window_size, replace = True)\n",
    "    one_hot_vector=[]\n",
    "\n",
    "    if feature_no == 1:\n",
    "        feature_used = ar1.copy()\n",
    "    elif feature_no == 2:\n",
    "        feature_used = br1.copy()\n",
    "    elif feature_no == 3:\n",
    "        feature_used = cr1.copy()\n",
    "    else:\n",
    "        print(\"Error input: [feature_no]!\")\n",
    "    if feature_no_2 == 1:\n",
    "        feature_used_2 = ar1.copy()\n",
    "    elif feature_no_2 == 2:\n",
    "        feature_used_2 = br1.copy()\n",
    "    elif feature_no_2 == 3:\n",
    "        feature_used_2 = cr1.copy()\n",
    "    else:\n",
    "        print(\"Error input: [feature_no_2]!\")   \n",
    "    for k in feature_used[\"features\"].values:\n",
    "        features= [item for item in k.split(' ') if item !='']\n",
    "        one_hot_vector=one_hot_vector+features\n",
    "    for k in feature_used_2[\"features\"].values:\n",
    "        features= [item for item in k.split(' ') if item !='']\n",
    "        one_hot_vector=one_hot_vector+features    \n",
    "    one_hot_vector=sorted(list(set(one_hot_vector)))\n",
    "    char_to_int = dict((c, i) for i, c in enumerate(one_hot_vector))\n",
    "    \n",
    "    onehot_encoded = list()\n",
    "    for k in feature_used[\"features\"].values:\n",
    "        features_direction_num= [item for item in k.split(' ') if item !='']\n",
    "        integer_encoded = [char_to_int[char] for char in features_direction_num]\n",
    "        letter = [0 for _ in range(len(char_to_int))]\n",
    "        for value in integer_encoded:\n",
    "            letter[value] = 1\n",
    "        onehot_encoded.append(letter)\n",
    "    for k,v in enumerate(feature_used_2['features'].values):\n",
    "        features= [item for item in v.split(' ') if item !='']\n",
    "        integer_encoded = [char_to_int[char] for char in features]\n",
    "        for value in integer_encoded:\n",
    "            onehot_encoded[k][value] = 1\n",
    "    onehot_encoded=np.array(onehot_encoded)\n",
    "    \n",
    "    return onehot_encoded,one_hot_vector"
   ]
  },
  {
   "cell_type": "code",
   "execution_count": 26,
   "metadata": {
    "ExecuteTime": {
     "end_time": "2021-03-21T06:22:01.736348Z",
     "start_time": "2021-03-21T06:21:51.989793Z"
    }
   },
   "outputs": [],
   "source": [
    "features = {}\n",
    "names = {}\n",
    "\n",
    "for i in range(1,6):\n",
    "    features[i],names[i]=one_hot_features('AMA', i, replace=True)#not use ald as they have number of sense=1\n"
   ]
  },
  {
   "cell_type": "code",
   "execution_count": 28,
   "metadata": {
    "ExecuteTime": {
     "end_time": "2021-03-21T06:22:07.370241Z",
     "start_time": "2021-03-21T06:22:07.366229Z"
    }
   },
   "outputs": [
    {
     "data": {
      "text/plain": [
       "505"
      ]
     },
     "execution_count": 28,
     "metadata": {},
     "output_type": "execute_result"
    }
   ],
   "source": [
    "len(names[1])"
   ]
  },
  {
   "cell_type": "code",
   "execution_count": 15,
   "metadata": {
    "ExecuteTime": {
     "end_time": "2021-03-17T04:22:18.630565Z",
     "start_time": "2021-03-17T04:22:08.917017Z"
    }
   },
   "outputs": [],
   "source": [
    "# fea_5,name_5=one_hot_features('AMA', 5, replace=True)#not use ald as they have number of sense=1\n",
    "# fea_4,name_4=one_hot_features('AMA', 4, replace=True)\n",
    "# fea_3,name_3=one_hot_features('AMA', 3, replace=True)\n",
    "# fea_2,name_2=one_hot_features('AMA', 2, replace=True)\n",
    "# fea_1,name_1=one_hot_features('AMA', 1, replace=True)"
   ]
  },
  {
   "cell_type": "markdown",
   "metadata": {},
   "source": [
    "# machine learning to decide window size"
   ]
  },
  {
   "cell_type": "code",
   "execution_count": 14,
   "metadata": {
    "ExecuteTime": {
     "end_time": "2021-03-22T22:03:32.529387Z",
     "start_time": "2021-03-22T22:03:32.378610Z"
    }
   },
   "outputs": [
    {
     "ename": "NameError",
     "evalue": "name 'cr1' is not defined",
     "output_type": "error",
     "traceback": [
      "\u001b[0;31m---------------------------------------------------------------------------\u001b[0m",
      "\u001b[0;31mNameError\u001b[0m                                 Traceback (most recent call last)",
      "\u001b[0;32m<ipython-input-14-dc112bf496fa>\u001b[0m in \u001b[0;36m<module>\u001b[0;34m\u001b[0m\n\u001b[1;32m      1\u001b[0m \u001b[0;32mfrom\u001b[0m \u001b[0msklearn\u001b[0m\u001b[0;34m.\u001b[0m\u001b[0mmodel_selection\u001b[0m \u001b[0;32mimport\u001b[0m \u001b[0mtrain_test_split\u001b[0m\u001b[0;34m\u001b[0m\u001b[0;34m\u001b[0m\u001b[0m\n\u001b[1;32m      2\u001b[0m \u001b[0;34m\u001b[0m\u001b[0m\n\u001b[0;32m----> 3\u001b[0;31m \u001b[0my\u001b[0m\u001b[0;34m=\u001b[0m\u001b[0mcr1\u001b[0m\u001b[0;34m[\u001b[0m\u001b[0;34m'sense'\u001b[0m\u001b[0;34m]\u001b[0m\u001b[0;34m.\u001b[0m\u001b[0mvalues\u001b[0m\u001b[0;34m\u001b[0m\u001b[0;34m\u001b[0m\u001b[0m\n\u001b[0m\u001b[1;32m      4\u001b[0m \u001b[0;34m\u001b[0m\u001b[0m\n\u001b[1;32m      5\u001b[0m \u001b[0mtrain_X\u001b[0m \u001b[0;34m=\u001b[0m \u001b[0;34m{\u001b[0m\u001b[0;34m}\u001b[0m\u001b[0;34m\u001b[0m\u001b[0;34m\u001b[0m\u001b[0m\n",
      "\u001b[0;31mNameError\u001b[0m: name 'cr1' is not defined"
     ]
    }
   ],
   "source": [
    "from sklearn.model_selection import train_test_split\n",
    "\n",
    "y=cr1['sense'].values\n",
    "\n",
    "train_X = {} \n",
    "test_X = {}\n",
    "train_y = {}\n",
    "test_y = {}\n",
    "\n",
    "for i in range(1,6):\n",
    "    train_X[i],test_X[i],train_y[i],test_y[i] = train_test_split(features[i], y, test_size=0.2, random_state=13, shuffle=True, stratify=y)\n",
    "    "
   ]
  },
  {
   "cell_type": "code",
   "execution_count": 17,
   "metadata": {
    "ExecuteTime": {
     "end_time": "2021-03-17T04:23:32.515600Z",
     "start_time": "2021-03-17T04:23:32.496231Z"
    }
   },
   "outputs": [],
   "source": [
    "# train_X_5, test_X_5, train_y, test_y = train_test_split(fea_5, y, test_size=0.2, random_state=13, shuffle=True, stratify=y)\n",
    "# train_X_4, test_X_4, train_y, test_y = train_test_split(fea_4, y, test_size=0.2, random_state=13, shuffle=True, stratify=y)\n",
    "# train_X_3, test_X_3, train_y, test_y = train_test_split(fea_3, y, test_size=0.2, random_state=13, shuffle=True, stratify=y)\n",
    "# train_X_2, test_X_2, train_y, test_y = train_test_split(fea_2, y, test_size=0.2, random_state=13, shuffle=True, stratify=y)\n",
    "# train_X_1, test_X_1, train_y, test_y = train_test_split(fea_1, y, test_size=0.2, random_state=13, shuffle=True, stratify=y)"
   ]
  },
  {
   "cell_type": "code",
   "execution_count": 15,
   "metadata": {
    "ExecuteTime": {
     "end_time": "2021-03-22T22:03:38.246462Z",
     "start_time": "2021-03-22T22:03:38.242926Z"
    }
   },
   "outputs": [],
   "source": [
    "from sklearn.model_selection import RandomizedSearchCV\n",
    "from sklearn.model_selection import StratifiedKFold\n",
    "\n",
    "def five_fold_CV(clf, params, dx, dy):\n",
    "    cv_model = RandomizedSearchCV(clf, params, scoring='f1_weighted', n_jobs=-1, \n",
    "                                  cv=StratifiedKFold(n_splits=5, shuffle=True, random_state=13), \n",
    "                                  verbose=1, n_iter=50, refit=True)\n",
    "    \n",
    "    cv_model.fit(dx, dy)\n",
    "    \n",
    "    return cv_model.best_estimator_"
   ]
  },
  {
   "cell_type": "code",
   "execution_count": 16,
   "metadata": {
    "ExecuteTime": {
     "end_time": "2021-03-22T22:03:41.156586Z",
     "start_time": "2021-03-22T22:03:41.107000Z"
    }
   },
   "outputs": [],
   "source": [
    "from sklearn.metrics import *\n",
    "from sklearn.model_selection import train_test_split\n",
    "from sklearn.linear_model import LogisticRegression\n",
    "from sklearn.neighbors import KNeighborsClassifier\n",
    "from sklearn.svm import SVC\n",
    "\n",
    "def logistic_regression_pred(X_train, Y_train, X_test):\n",
    "    lr = LogisticRegression()\n",
    "    tuned_parameters = {'max_iter': [10, 50, 100, 200, 500, 750, 1000], \n",
    "                    'tol': [0.0001, 0.001, 0.01, 0.1],\n",
    "                    'C': [0.01, 0.1, 1.0, 5.0, 10.0, 25.0, 50.0, 100.0],\n",
    "                    'solver': ['lbfgs', 'liblinear', 'newton-cg'], \n",
    "                    'class_weight': [None, 'balanced']}\n",
    "    \n",
    "    best_lr_model = five_fold_CV(lr, tuned_parameters, X_train, Y_train)\n",
    "    lr_y_test = best_lr_model.predict(X_test)\n",
    "    return lr_y_test\n",
    "\n",
    "def svm_pred(X_train, Y_train, X_test):\n",
    "    svm = SVC()\n",
    "    tuned_parameters = {\"C\": [0.001, 0.01, 0.1, 2, 8, 32, 64, 128, 512, 1024, 2048],\n",
    "                    'gamma':['scale', 'auto'],\n",
    "                    'probability':[True], \n",
    "                    'tol': [0.1, 0.01, 0.001, 0.0001]}\n",
    "    best_svm_model = five_fold_CV(svm, tuned_parameters, X_train, Y_train)\n",
    "    svm_y_test = best_svm_model.predict(X_test)\n",
    "    return svm_y_test\n",
    "\n",
    "def knn_pred(X_train, Y_train, X_test):\n",
    "    neigh = KNeighborsClassifier()\n",
    "    tuned_parameters = dict(n_neighbors=range(1, 30), weights=['uniform', 'distance'])\n",
    "    best_knn_model = five_fold_CV(neigh, tuned_parameters, X_train, Y_train)\n",
    "    neigh_y_pred = best_knn_model.predict(X_test)\n",
    "    return neigh_y_pred\n",
    "\n",
    "def randomforest_pred(X_train, Y_train, X_test):\n",
    "    rf = RandomForestClassifier()\n",
    "    \n",
    "    tuned_parameters = {'n_estimators':[50, 100, 250,  500, 750, 1000, 1250, 1500, 2000], \n",
    "                    'criterion':['gini', 'entropy'], \n",
    "                    'max_features':['log2', 'auto', None], \n",
    "                    'min_samples_split':[2, 3, 4], \n",
    "                    'max_depth': [3, 6, 9, 12, 15, 18, 21, 24, 32, None], \n",
    "                    'min_samples_leaf':[1, 2], \n",
    "                    'max_leaf_nodes': [None, 5, 10],\n",
    "                    'min_impurity_decrease':[0.1, 0.01, 0.001, 0.0001, 0.00001],\n",
    "                    'bootstrap': [True, False],\n",
    "                    'class_weight': [None, 'balanced', 'balanced_subsample']}\n",
    "    best_rf_model = five_fold_CV(rf, tuned_parameters, X_train, Y_train)\n",
    "\n",
    "    forest_y_pred = best_rf_model.predict(X_test)\n",
    "    return forest_y_pred \n",
    "\n",
    "def classification_metrics(Y_pred, Y_true):\n",
    "    #TODO: Calculate the above mentioned metrics\n",
    "    #NOTE: It is important to provide the output in the same order\n",
    "    precision = precision_score(Y_pred, Y_true, average='micro')\n",
    "    recall = recall_score(Y_pred, Y_true, average='micro')\n",
    "    f1score = f1_score(Y_pred, Y_true, average='micro')\n",
    "    report = classification_report(Y_pred, Y_true)\n",
    "    return precision, recall, f1score, report\n",
    "\n",
    "def display_metrics(classifierName, Y_pred, Y_true):\n",
    "    print(\"______________________________________________\")\n",
    "    print((\"Classifier: \"+classifierName))\n",
    "    precision, recall, f1score, report = classification_metrics(Y_pred,Y_true)\n",
    "    print((\"Precision: \"+str(precision)))\n",
    "    print((\"Recall: \"+str(recall)))\n",
    "    print((\"F1-score: \"+str(f1score)))\n",
    "    print(\"______________________________________________\")\n",
    "    print(report)\n",
    "    print(\"\")"
   ]
  },
  {
   "cell_type": "markdown",
   "metadata": {},
   "source": [
    "## For combined one-hot features: 3 in 1"
   ]
  },
  {
   "cell_type": "code",
   "execution_count": 30,
   "metadata": {
    "ExecuteTime": {
     "end_time": "2021-03-21T06:22:41.813369Z",
     "start_time": "2021-03-21T06:22:20.270823Z"
    }
   },
   "outputs": [
    {
     "name": "stdout",
     "output_type": "stream",
     "text": [
      "***********************************************************\n",
      "Window Size: 1\n",
      "Fitting 5 folds for each of 50 candidates, totalling 250 fits\n"
     ]
    },
    {
     "name": "stderr",
     "output_type": "stream",
     "text": [
      "[Parallel(n_jobs=-1)]: Using backend LokyBackend with 16 concurrent workers.\n",
      "[Parallel(n_jobs=-1)]: Done  18 tasks      | elapsed:    1.7s\n",
      "[Parallel(n_jobs=-1)]: Done 219 out of 250 | elapsed:    3.2s remaining:    0.5s\n",
      "[Parallel(n_jobs=-1)]: Done 250 out of 250 | elapsed:    3.4s finished\n"
     ]
    },
    {
     "name": "stdout",
     "output_type": "stream",
     "text": [
      "______________________________________________\n",
      "Classifier: Logistic Regression\n",
      "Precision: 0.97\n",
      "Recall: 0.97\n",
      "F1-score: 0.97\n",
      "______________________________________________\n",
      "                            precision    recall  f1-score   support\n",
      "\n",
      "     advanced maternal age       0.83      0.83      0.83         6\n",
      "    against medical advice       0.99      0.98      0.98        90\n",
      "antimitochondrial antibody       0.80      1.00      0.89         4\n",
      "\n",
      "                  accuracy                           0.97       100\n",
      "                 macro avg       0.87      0.94      0.90       100\n",
      "              weighted avg       0.97      0.97      0.97       100\n",
      "\n",
      "\n",
      "***********************************************************\n",
      "Window Size: 2\n",
      "Fitting 5 folds for each of 50 candidates, totalling 250 fits\n"
     ]
    },
    {
     "name": "stderr",
     "output_type": "stream",
     "text": [
      "[Parallel(n_jobs=-1)]: Using backend LokyBackend with 16 concurrent workers.\n",
      "[Parallel(n_jobs=-1)]: Done  18 tasks      | elapsed:    0.4s\n",
      "[Parallel(n_jobs=-1)]: Done 250 out of 250 | elapsed:    2.8s finished\n",
      "[Parallel(n_jobs=-1)]: Using backend LokyBackend with 16 concurrent workers.\n"
     ]
    },
    {
     "name": "stdout",
     "output_type": "stream",
     "text": [
      "______________________________________________\n",
      "Classifier: Logistic Regression\n",
      "Precision: 0.97\n",
      "Recall: 0.97\n",
      "F1-score: 0.97\n",
      "______________________________________________\n",
      "                            precision    recall  f1-score   support\n",
      "\n",
      "     advanced maternal age       0.67      1.00      0.80         4\n",
      "    against medical advice       1.00      0.97      0.98        92\n",
      "antimitochondrial antibody       0.80      1.00      0.89         4\n",
      "\n",
      "                  accuracy                           0.97       100\n",
      "                 macro avg       0.82      0.99      0.89       100\n",
      "              weighted avg       0.98      0.97      0.97       100\n",
      "\n",
      "\n",
      "***********************************************************\n",
      "Window Size: 3\n",
      "Fitting 5 folds for each of 50 candidates, totalling 250 fits\n"
     ]
    },
    {
     "name": "stderr",
     "output_type": "stream",
     "text": [
      "[Parallel(n_jobs=-1)]: Done  18 tasks      | elapsed:    0.3s\n",
      "[Parallel(n_jobs=-1)]: Done 219 out of 250 | elapsed:    3.7s remaining:    0.5s\n",
      "[Parallel(n_jobs=-1)]: Done 250 out of 250 | elapsed:    3.9s finished\n",
      "[Parallel(n_jobs=-1)]: Using backend LokyBackend with 16 concurrent workers.\n"
     ]
    },
    {
     "name": "stdout",
     "output_type": "stream",
     "text": [
      "______________________________________________\n",
      "Classifier: Logistic Regression\n",
      "Precision: 0.96\n",
      "Recall: 0.96\n",
      "F1-score: 0.96\n",
      "______________________________________________\n",
      "                            precision    recall  f1-score   support\n",
      "\n",
      "     advanced maternal age       0.67      0.80      0.73         5\n",
      "    against medical advice       1.00      0.97      0.98        92\n",
      "antimitochondrial antibody       0.60      1.00      0.75         3\n",
      "\n",
      "                  accuracy                           0.96       100\n",
      "                 macro avg       0.76      0.92      0.82       100\n",
      "              weighted avg       0.97      0.96      0.96       100\n",
      "\n",
      "\n",
      "***********************************************************\n",
      "Window Size: 4\n",
      "Fitting 5 folds for each of 50 candidates, totalling 250 fits\n"
     ]
    },
    {
     "name": "stderr",
     "output_type": "stream",
     "text": [
      "[Parallel(n_jobs=-1)]: Done  18 tasks      | elapsed:    0.3s\n",
      "[Parallel(n_jobs=-1)]: Done 250 out of 250 | elapsed:    4.7s finished\n",
      "[Parallel(n_jobs=-1)]: Using backend LokyBackend with 16 concurrent workers.\n"
     ]
    },
    {
     "name": "stdout",
     "output_type": "stream",
     "text": [
      "______________________________________________\n",
      "Classifier: Logistic Regression\n",
      "Precision: 0.94\n",
      "Recall: 0.94\n",
      "F1-score: 0.94\n",
      "______________________________________________\n",
      "                            precision    recall  f1-score   support\n",
      "\n",
      "     advanced maternal age       0.50      0.75      0.60         4\n",
      "    against medical advice       0.99      0.95      0.97        93\n",
      "antimitochondrial antibody       0.60      1.00      0.75         3\n",
      "\n",
      "                  accuracy                           0.94       100\n",
      "                 macro avg       0.70      0.90      0.77       100\n",
      "              weighted avg       0.96      0.94      0.95       100\n",
      "\n",
      "\n",
      "***********************************************************\n",
      "Window Size: 5\n",
      "Fitting 5 folds for each of 50 candidates, totalling 250 fits\n"
     ]
    },
    {
     "name": "stderr",
     "output_type": "stream",
     "text": [
      "[Parallel(n_jobs=-1)]: Done  18 tasks      | elapsed:    0.8s\n",
      "[Parallel(n_jobs=-1)]: Done 219 out of 250 | elapsed:    5.8s remaining:    0.8s\n"
     ]
    },
    {
     "name": "stdout",
     "output_type": "stream",
     "text": [
      "______________________________________________\n",
      "Classifier: Logistic Regression\n",
      "Precision: 0.95\n",
      "Recall: 0.95\n",
      "F1-score: 0.9500000000000001\n",
      "______________________________________________\n",
      "                            precision    recall  f1-score   support\n",
      "\n",
      "     advanced maternal age       0.50      1.00      0.67         3\n",
      "    against medical advice       1.00      0.95      0.97        94\n",
      "antimitochondrial antibody       0.60      1.00      0.75         3\n",
      "\n",
      "                  accuracy                           0.95       100\n",
      "                 macro avg       0.70      0.98      0.80       100\n",
      "              weighted avg       0.97      0.95      0.96       100\n",
      "\n",
      "\n"
     ]
    },
    {
     "name": "stderr",
     "output_type": "stream",
     "text": [
      "[Parallel(n_jobs=-1)]: Done 250 out of 250 | elapsed:    6.3s finished\n"
     ]
    }
   ],
   "source": [
    "# LR - window size (1,5)\n",
    "for i in range(1,6):\n",
    "    print('***********************************************************')\n",
    "    print('Window Size:', i)\n",
    "    display_metrics(\"Logistic Regression\",logistic_regression_pred(train_X[i],train_y[i],test_X[i]),test_y[i])"
   ]
  },
  {
   "cell_type": "code",
   "execution_count": 31,
   "metadata": {
    "ExecuteTime": {
     "end_time": "2021-03-21T06:24:53.489783Z",
     "start_time": "2021-03-21T06:22:41.816182Z"
    }
   },
   "outputs": [
    {
     "name": "stderr",
     "output_type": "stream",
     "text": [
      "[Parallel(n_jobs=-1)]: Using backend LokyBackend with 16 concurrent workers.\n"
     ]
    },
    {
     "name": "stdout",
     "output_type": "stream",
     "text": [
      "Fitting 5 folds for each of 50 candidates, totalling 250 fits\n"
     ]
    },
    {
     "name": "stderr",
     "output_type": "stream",
     "text": [
      "[Parallel(n_jobs=-1)]: Done  18 tasks      | elapsed:    0.4s\n",
      "[Parallel(n_jobs=-1)]: Done 219 out of 250 | elapsed:    2.9s remaining:    0.4s\n",
      "[Parallel(n_jobs=-1)]: Done 250 out of 250 | elapsed:    3.1s finished\n"
     ]
    },
    {
     "name": "stdout",
     "output_type": "stream",
     "text": [
      "______________________________________________\n",
      "Classifier: SVM\n",
      "Precision: 0.91\n",
      "Recall: 0.91\n",
      "F1-score: 0.91\n",
      "______________________________________________\n",
      "                            precision    recall  f1-score   support\n",
      "\n",
      "     advanced maternal age       0.00      0.00      0.00         0\n",
      "    against medical advice       0.99      0.92      0.95        96\n",
      "antimitochondrial antibody       0.60      0.75      0.67         4\n",
      "\n",
      "                  accuracy                           0.91       100\n",
      "                 macro avg       0.53      0.56      0.54       100\n",
      "              weighted avg       0.97      0.91      0.94       100\n",
      "\n",
      "\n",
      "Fitting 5 folds for each of 50 candidates, totalling 250 fits\n"
     ]
    },
    {
     "name": "stderr",
     "output_type": "stream",
     "text": [
      "/Users/zehao.yu/.pyenv/versions/miniconda3-latest/lib/python3.7/site-packages/sklearn/metrics/_classification.py:1221: UndefinedMetricWarning: Recall and F-score are ill-defined and being set to 0.0 in labels with no true samples. Use `zero_division` parameter to control this behavior.\n",
      "  _warn_prf(average, modifier, msg_start, len(result))\n",
      "[Parallel(n_jobs=-1)]: Using backend LokyBackend with 16 concurrent workers.\n",
      "[Parallel(n_jobs=-1)]: Done  18 tasks      | elapsed:    1.3s\n",
      "[Parallel(n_jobs=-1)]: Done 168 tasks      | elapsed:    8.3s\n",
      "[Parallel(n_jobs=-1)]: Done 250 out of 250 | elapsed:   12.3s finished\n"
     ]
    },
    {
     "name": "stdout",
     "output_type": "stream",
     "text": [
      "______________________________________________\n",
      "Classifier: SVM\n",
      "Precision: 0.97\n",
      "Recall: 0.97\n",
      "F1-score: 0.97\n",
      "______________________________________________\n",
      "                            precision    recall  f1-score   support\n",
      "\n",
      "     advanced maternal age       0.67      1.00      0.80         4\n",
      "    against medical advice       1.00      0.97      0.98        92\n",
      "antimitochondrial antibody       0.80      1.00      0.89         4\n",
      "\n",
      "                  accuracy                           0.97       100\n",
      "                 macro avg       0.82      0.99      0.89       100\n",
      "              weighted avg       0.98      0.97      0.97       100\n",
      "\n",
      "\n",
      "Fitting 5 folds for each of 50 candidates, totalling 250 fits\n"
     ]
    },
    {
     "name": "stderr",
     "output_type": "stream",
     "text": [
      "[Parallel(n_jobs=-1)]: Using backend LokyBackend with 16 concurrent workers.\n",
      "[Parallel(n_jobs=-1)]: Done  18 tasks      | elapsed:    2.2s\n",
      "[Parallel(n_jobs=-1)]: Done 168 tasks      | elapsed:   16.2s\n",
      "[Parallel(n_jobs=-1)]: Done 250 out of 250 | elapsed:   25.9s finished\n"
     ]
    },
    {
     "name": "stdout",
     "output_type": "stream",
     "text": [
      "______________________________________________\n",
      "Classifier: SVM\n",
      "Precision: 0.96\n",
      "Recall: 0.96\n",
      "F1-score: 0.96\n",
      "______________________________________________\n",
      "                            precision    recall  f1-score   support\n",
      "\n",
      "     advanced maternal age       0.67      0.67      0.67         6\n",
      "    against medical advice       1.00      0.98      0.99        91\n",
      "antimitochondrial antibody       0.60      1.00      0.75         3\n",
      "\n",
      "                  accuracy                           0.96       100\n",
      "                 macro avg       0.76      0.88      0.80       100\n",
      "              weighted avg       0.97      0.96      0.96       100\n",
      "\n",
      "\n",
      "Fitting 5 folds for each of 50 candidates, totalling 250 fits\n"
     ]
    },
    {
     "name": "stderr",
     "output_type": "stream",
     "text": [
      "[Parallel(n_jobs=-1)]: Using backend LokyBackend with 16 concurrent workers.\n",
      "[Parallel(n_jobs=-1)]: Done  18 tasks      | elapsed:    3.7s\n",
      "[Parallel(n_jobs=-1)]: Done 168 tasks      | elapsed:   23.1s\n",
      "[Parallel(n_jobs=-1)]: Done 250 out of 250 | elapsed:   35.8s finished\n"
     ]
    },
    {
     "name": "stdout",
     "output_type": "stream",
     "text": [
      "______________________________________________\n",
      "Classifier: SVM\n",
      "Precision: 0.95\n",
      "Recall: 0.95\n",
      "F1-score: 0.9500000000000001\n",
      "______________________________________________\n",
      "                            precision    recall  f1-score   support\n",
      "\n",
      "     advanced maternal age       0.67      0.57      0.62         7\n",
      "    against medical advice       0.99      0.98      0.98        90\n",
      "antimitochondrial antibody       0.60      1.00      0.75         3\n",
      "\n",
      "                  accuracy                           0.95       100\n",
      "                 macro avg       0.75      0.85      0.78       100\n",
      "              weighted avg       0.95      0.95      0.95       100\n",
      "\n",
      "\n",
      "Fitting 5 folds for each of 50 candidates, totalling 250 fits\n"
     ]
    },
    {
     "name": "stderr",
     "output_type": "stream",
     "text": [
      "[Parallel(n_jobs=-1)]: Using backend LokyBackend with 16 concurrent workers.\n",
      "[Parallel(n_jobs=-1)]: Done  18 tasks      | elapsed:    3.8s\n",
      "[Parallel(n_jobs=-1)]: Done 168 tasks      | elapsed:   32.2s\n",
      "[Parallel(n_jobs=-1)]: Done 250 out of 250 | elapsed:   49.2s finished\n"
     ]
    },
    {
     "name": "stdout",
     "output_type": "stream",
     "text": [
      "______________________________________________\n",
      "Classifier: SVM\n",
      "Precision: 0.96\n",
      "Recall: 0.96\n",
      "F1-score: 0.96\n",
      "______________________________________________\n",
      "                            precision    recall  f1-score   support\n",
      "\n",
      "     advanced maternal age       0.67      0.67      0.67         6\n",
      "    against medical advice       1.00      0.98      0.99        91\n",
      "antimitochondrial antibody       0.60      1.00      0.75         3\n",
      "\n",
      "                  accuracy                           0.96       100\n",
      "                 macro avg       0.76      0.88      0.80       100\n",
      "              weighted avg       0.97      0.96      0.96       100\n",
      "\n",
      "\n"
     ]
    }
   ],
   "source": [
    "for i in range(1,6):\n",
    "    display_metrics(\"SVM\",svm_pred(train_X[i],train_y[i],test_X[i]),test_y[i])"
   ]
  },
  {
   "cell_type": "code",
   "execution_count": 32,
   "metadata": {
    "ExecuteTime": {
     "end_time": "2021-03-21T06:25:14.991379Z",
     "start_time": "2021-03-21T06:24:53.492164Z"
    }
   },
   "outputs": [
    {
     "name": "stdout",
     "output_type": "stream",
     "text": [
      "Fitting 5 folds for each of 50 candidates, totalling 250 fits\n"
     ]
    },
    {
     "name": "stderr",
     "output_type": "stream",
     "text": [
      "[Parallel(n_jobs=-1)]: Using backend LokyBackend with 16 concurrent workers.\n",
      "[Parallel(n_jobs=-1)]: Done  18 tasks      | elapsed:    0.2s\n",
      "[Parallel(n_jobs=-1)]: Done 250 out of 250 | elapsed:    1.0s finished\n",
      "/Users/zehao.yu/.pyenv/versions/miniconda3-latest/lib/python3.7/site-packages/sklearn/metrics/_classification.py:1221: UndefinedMetricWarning: Recall and F-score are ill-defined and being set to 0.0 in labels with no true samples. Use `zero_division` parameter to control this behavior.\n",
      "  _warn_prf(average, modifier, msg_start, len(result))\n",
      "[Parallel(n_jobs=-1)]: Using backend LokyBackend with 16 concurrent workers.\n"
     ]
    },
    {
     "name": "stdout",
     "output_type": "stream",
     "text": [
      "______________________________________________\n",
      "Classifier: K Nearest Neighbor\n",
      "Precision: 0.89\n",
      "Recall: 0.89\n",
      "F1-score: 0.89\n",
      "______________________________________________\n",
      "                            precision    recall  f1-score   support\n",
      "\n",
      "     advanced maternal age       0.50      0.27      0.35        11\n",
      "    against medical advice       0.97      0.97      0.97        89\n",
      "antimitochondrial antibody       0.00      0.00      0.00         0\n",
      "\n",
      "                  accuracy                           0.89       100\n",
      "                 macro avg       0.49      0.41      0.44       100\n",
      "              weighted avg       0.92      0.89      0.90       100\n",
      "\n",
      "\n",
      "Fitting 5 folds for each of 50 candidates, totalling 250 fits\n"
     ]
    },
    {
     "name": "stderr",
     "output_type": "stream",
     "text": [
      "[Parallel(n_jobs=-1)]: Done  18 tasks      | elapsed:    0.3s\n",
      "[Parallel(n_jobs=-1)]: Done 250 out of 250 | elapsed:    2.3s finished\n",
      "/Users/zehao.yu/.pyenv/versions/miniconda3-latest/lib/python3.7/site-packages/sklearn/metrics/_classification.py:1221: UndefinedMetricWarning: Recall and F-score are ill-defined and being set to 0.0 in labels with no true samples. Use `zero_division` parameter to control this behavior.\n",
      "  _warn_prf(average, modifier, msg_start, len(result))\n",
      "[Parallel(n_jobs=-1)]: Using backend LokyBackend with 16 concurrent workers.\n"
     ]
    },
    {
     "name": "stdout",
     "output_type": "stream",
     "text": [
      "______________________________________________\n",
      "Classifier: K Nearest Neighbor\n",
      "Precision: 0.91\n",
      "Recall: 0.91\n",
      "F1-score: 0.91\n",
      "______________________________________________\n",
      "                            precision    recall  f1-score   support\n",
      "\n",
      "     advanced maternal age       0.50      0.33      0.40         9\n",
      "    against medical advice       0.99      0.97      0.98        91\n",
      "antimitochondrial antibody       0.00      0.00      0.00         0\n",
      "\n",
      "                  accuracy                           0.91       100\n",
      "                 macro avg       0.50      0.43      0.46       100\n",
      "              weighted avg       0.94      0.91      0.93       100\n",
      "\n",
      "\n",
      "Fitting 5 folds for each of 50 candidates, totalling 250 fits\n"
     ]
    },
    {
     "name": "stderr",
     "output_type": "stream",
     "text": [
      "[Parallel(n_jobs=-1)]: Done  18 tasks      | elapsed:    0.5s\n",
      "[Parallel(n_jobs=-1)]: Done 168 tasks      | elapsed:    2.8s\n",
      "[Parallel(n_jobs=-1)]: Done 250 out of 250 | elapsed:    4.1s finished\n"
     ]
    },
    {
     "name": "stdout",
     "output_type": "stream",
     "text": [
      "______________________________________________\n",
      "Classifier: K Nearest Neighbor\n",
      "Precision: 0.78\n",
      "Recall: 0.78\n",
      "F1-score: 0.78\n",
      "______________________________________________\n",
      "                            precision    recall  f1-score   support\n",
      "\n",
      "     advanced maternal age       1.00      0.21      0.35        28\n",
      "    against medical advice       0.81      1.00      0.89        72\n",
      "antimitochondrial antibody       0.00      0.00      0.00         0\n",
      "\n",
      "                  accuracy                           0.78       100\n",
      "                 macro avg       0.60      0.40      0.42       100\n",
      "              weighted avg       0.86      0.78      0.74       100\n",
      "\n",
      "\n",
      "Fitting 5 folds for each of 50 candidates, totalling 250 fits\n"
     ]
    },
    {
     "name": "stderr",
     "output_type": "stream",
     "text": [
      "/Users/zehao.yu/.pyenv/versions/miniconda3-latest/lib/python3.7/site-packages/sklearn/metrics/_classification.py:1221: UndefinedMetricWarning: Recall and F-score are ill-defined and being set to 0.0 in labels with no true samples. Use `zero_division` parameter to control this behavior.\n",
      "  _warn_prf(average, modifier, msg_start, len(result))\n",
      "[Parallel(n_jobs=-1)]: Using backend LokyBackend with 16 concurrent workers.\n",
      "[Parallel(n_jobs=-1)]: Done  18 tasks      | elapsed:    0.7s\n",
      "[Parallel(n_jobs=-1)]: Done 168 tasks      | elapsed:    4.0s\n",
      "[Parallel(n_jobs=-1)]: Done 250 out of 250 | elapsed:    5.7s finished\n"
     ]
    },
    {
     "name": "stdout",
     "output_type": "stream",
     "text": [
      "______________________________________________\n",
      "Classifier: K Nearest Neighbor\n",
      "Precision: 0.84\n",
      "Recall: 0.84\n",
      "F1-score: 0.8399999999999999\n",
      "______________________________________________\n",
      "                            precision    recall  f1-score   support\n",
      "\n",
      "     advanced maternal age       1.00      0.27      0.43        22\n",
      "    against medical advice       0.88      1.00      0.93        78\n",
      "antimitochondrial antibody       0.00      0.00      0.00         0\n",
      "\n",
      "                  accuracy                           0.84       100\n",
      "                 macro avg       0.63      0.42      0.45       100\n",
      "              weighted avg       0.90      0.84      0.82       100\n",
      "\n",
      "\n",
      "Fitting 5 folds for each of 50 candidates, totalling 250 fits\n"
     ]
    },
    {
     "name": "stderr",
     "output_type": "stream",
     "text": [
      "/Users/zehao.yu/.pyenv/versions/miniconda3-latest/lib/python3.7/site-packages/sklearn/metrics/_classification.py:1221: UndefinedMetricWarning: Recall and F-score are ill-defined and being set to 0.0 in labels with no true samples. Use `zero_division` parameter to control this behavior.\n",
      "  _warn_prf(average, modifier, msg_start, len(result))\n",
      "[Parallel(n_jobs=-1)]: Using backend LokyBackend with 16 concurrent workers.\n",
      "[Parallel(n_jobs=-1)]: Done  18 tasks      | elapsed:    0.9s\n",
      "[Parallel(n_jobs=-1)]: Done 168 tasks      | elapsed:    5.1s\n",
      "[Parallel(n_jobs=-1)]: Done 250 out of 250 | elapsed:    7.1s finished\n"
     ]
    },
    {
     "name": "stdout",
     "output_type": "stream",
     "text": [
      "______________________________________________\n",
      "Classifier: K Nearest Neighbor\n",
      "Precision: 0.82\n",
      "Recall: 0.82\n",
      "F1-score: 0.82\n",
      "______________________________________________\n",
      "                            precision    recall  f1-score   support\n",
      "\n",
      "     advanced maternal age       0.83      0.23      0.36        22\n",
      "    against medical advice       0.87      0.99      0.92        78\n",
      "antimitochondrial antibody       0.00      0.00      0.00         0\n",
      "\n",
      "                  accuracy                           0.82       100\n",
      "                 macro avg       0.57      0.40      0.43       100\n",
      "              weighted avg       0.86      0.82      0.80       100\n",
      "\n",
      "\n"
     ]
    },
    {
     "name": "stderr",
     "output_type": "stream",
     "text": [
      "/Users/zehao.yu/.pyenv/versions/miniconda3-latest/lib/python3.7/site-packages/sklearn/metrics/_classification.py:1221: UndefinedMetricWarning: Recall and F-score are ill-defined and being set to 0.0 in labels with no true samples. Use `zero_division` parameter to control this behavior.\n",
      "  _warn_prf(average, modifier, msg_start, len(result))\n"
     ]
    }
   ],
   "source": [
    "for i in range(1,6):\n",
    "    display_metrics(\"K Nearest Neighbor\",knn_pred(train_X[i],train_y[i],test_X[i]),test_y[i])"
   ]
  },
  {
   "cell_type": "code",
   "execution_count": 24,
   "metadata": {},
   "outputs": [],
   "source": [
    "# for i in range(1,6):\n",
    "#     display_metrics(\"RF\",randomforest_pred(train_X[i],train_y[i],test_X[i]),test_y[1])"
   ]
  },
  {
   "cell_type": "markdown",
   "metadata": {},
   "source": [
    "# For original features"
   ]
  },
  {
   "cell_type": "code",
   "execution_count": 49,
   "metadata": {},
   "outputs": [],
   "source": [
    "features = {}\n",
    "names = {}\n",
    "\n",
    "for i in range(1,6):\n",
    "    features[i],names[i]=one_hot_features_single('AMA', i, feature_no=1, replace=True)#not use ald as they have number of sense=1\n"
   ]
  },
  {
   "cell_type": "code",
   "execution_count": 50,
   "metadata": {},
   "outputs": [],
   "source": [
    "from sklearn.model_selection import train_test_split\n",
    "\n",
    "y=cr1['sense'].values\n",
    "\n",
    "train_X = {} \n",
    "test_X = {}\n",
    "train_y = {}\n",
    "test_y = {}\n",
    "\n",
    "for i in range(1,6):\n",
    "    train_X[i],test_X[i],train_y[i],test_y[i] = train_test_split(features[i], y, test_size=0.2, random_state=13, shuffle=True, stratify=y)\n",
    "    "
   ]
  },
  {
   "cell_type": "code",
   "execution_count": 55,
   "metadata": {},
   "outputs": [
    {
     "name": "stdout",
     "output_type": "stream",
     "text": [
      "Window Size: 1\n",
      "Fitting 5 folds for each of 50 candidates, totalling 250 fits\n"
     ]
    },
    {
     "name": "stderr",
     "output_type": "stream",
     "text": [
      "[Parallel(n_jobs=-1)]: Using backend LokyBackend with 4 concurrent workers.\n",
      "[Parallel(n_jobs=-1)]: Done  68 tasks      | elapsed:    1.5s\n",
      "[Parallel(n_jobs=-1)]: Done 250 out of 250 | elapsed:    2.5s finished\n",
      "[Parallel(n_jobs=-1)]: Using backend LokyBackend with 4 concurrent workers.\n"
     ]
    },
    {
     "name": "stdout",
     "output_type": "stream",
     "text": [
      "______________________________________________\n",
      "Classifier: Logistic Regression\n",
      "Precision: 0.96\n",
      "Recall: 0.96\n",
      "F1-score: 0.96\n",
      "______________________________________________\n",
      "                            precision    recall  f1-score   support\n",
      "\n",
      "     advanced maternal age       0.67      0.80      0.73         5\n",
      "    against medical advice       0.99      0.98      0.98        90\n",
      "antimitochondrial antibody       0.80      0.80      0.80         5\n",
      "\n",
      "                  accuracy                           0.96       100\n",
      "                 macro avg       0.82      0.86      0.84       100\n",
      "              weighted avg       0.96      0.96      0.96       100\n",
      "\n",
      "\n",
      "Window Size: 2\n",
      "Fitting 5 folds for each of 50 candidates, totalling 250 fits\n"
     ]
    },
    {
     "name": "stderr",
     "output_type": "stream",
     "text": [
      "[Parallel(n_jobs=-1)]: Done 200 tasks      | elapsed:    1.4s\n",
      "[Parallel(n_jobs=-1)]: Done 250 out of 250 | elapsed:    1.7s finished\n",
      "[Parallel(n_jobs=-1)]: Using backend LokyBackend with 4 concurrent workers.\n"
     ]
    },
    {
     "name": "stdout",
     "output_type": "stream",
     "text": [
      "______________________________________________\n",
      "Classifier: Logistic Regression\n",
      "Precision: 0.97\n",
      "Recall: 0.97\n",
      "F1-score: 0.97\n",
      "______________________________________________\n",
      "                            precision    recall  f1-score   support\n",
      "\n",
      "     advanced maternal age       0.67      1.00      0.80         4\n",
      "    against medical advice       1.00      0.97      0.98        92\n",
      "antimitochondrial antibody       0.80      1.00      0.89         4\n",
      "\n",
      "                  accuracy                           0.97       100\n",
      "                 macro avg       0.82      0.99      0.89       100\n",
      "              weighted avg       0.98      0.97      0.97       100\n",
      "\n",
      "\n",
      "Window Size: 3\n",
      "Fitting 5 folds for each of 50 candidates, totalling 250 fits\n"
     ]
    },
    {
     "name": "stderr",
     "output_type": "stream",
     "text": [
      "[Parallel(n_jobs=-1)]: Done 128 tasks      | elapsed:    1.5s\n",
      "[Parallel(n_jobs=-1)]: Done 250 out of 250 | elapsed:    2.3s finished\n",
      "[Parallel(n_jobs=-1)]: Using backend LokyBackend with 4 concurrent workers.\n"
     ]
    },
    {
     "name": "stdout",
     "output_type": "stream",
     "text": [
      "______________________________________________\n",
      "Classifier: Logistic Regression\n",
      "Precision: 0.96\n",
      "Recall: 0.96\n",
      "F1-score: 0.96\n",
      "______________________________________________\n",
      "                            precision    recall  f1-score   support\n",
      "\n",
      "     advanced maternal age       0.67      0.80      0.73         5\n",
      "    against medical advice       1.00      0.97      0.98        92\n",
      "antimitochondrial antibody       0.60      1.00      0.75         3\n",
      "\n",
      "                  accuracy                           0.96       100\n",
      "                 macro avg       0.76      0.92      0.82       100\n",
      "              weighted avg       0.97      0.96      0.96       100\n",
      "\n",
      "\n",
      "Window Size: 4\n",
      "Fitting 5 folds for each of 50 candidates, totalling 250 fits\n"
     ]
    },
    {
     "name": "stderr",
     "output_type": "stream",
     "text": [
      "[Parallel(n_jobs=-1)]: Done 128 tasks      | elapsed:    1.8s\n",
      "[Parallel(n_jobs=-1)]: Done 250 out of 250 | elapsed:    2.8s finished\n",
      "[Parallel(n_jobs=-1)]: Using backend LokyBackend with 4 concurrent workers.\n"
     ]
    },
    {
     "name": "stdout",
     "output_type": "stream",
     "text": [
      "______________________________________________\n",
      "Classifier: Logistic Regression\n",
      "Precision: 0.95\n",
      "Recall: 0.95\n",
      "F1-score: 0.9500000000000001\n",
      "______________________________________________\n",
      "                            precision    recall  f1-score   support\n",
      "\n",
      "     advanced maternal age       0.50      1.00      0.67         3\n",
      "    against medical advice       1.00      0.95      0.97        94\n",
      "antimitochondrial antibody       0.60      1.00      0.75         3\n",
      "\n",
      "                  accuracy                           0.95       100\n",
      "                 macro avg       0.70      0.98      0.80       100\n",
      "              weighted avg       0.97      0.95      0.96       100\n",
      "\n",
      "\n",
      "Window Size: 5\n",
      "Fitting 5 folds for each of 50 candidates, totalling 250 fits\n"
     ]
    },
    {
     "name": "stderr",
     "output_type": "stream",
     "text": [
      "[Parallel(n_jobs=-1)]: Done 128 tasks      | elapsed:    1.4s\n",
      "[Parallel(n_jobs=-1)]: Done 250 out of 250 | elapsed:    3.0s finished\n"
     ]
    },
    {
     "name": "stdout",
     "output_type": "stream",
     "text": [
      "______________________________________________\n",
      "Classifier: Logistic Regression\n",
      "Precision: 0.97\n",
      "Recall: 0.97\n",
      "F1-score: 0.97\n",
      "______________________________________________\n",
      "                            precision    recall  f1-score   support\n",
      "\n",
      "     advanced maternal age       0.83      0.83      0.83         6\n",
      "    against medical advice       1.00      0.98      0.99        91\n",
      "antimitochondrial antibody       0.60      1.00      0.75         3\n",
      "\n",
      "                  accuracy                           0.97       100\n",
      "                 macro avg       0.81      0.94      0.86       100\n",
      "              weighted avg       0.98      0.97      0.97       100\n",
      "\n",
      "\n",
      "***********************************************************\n",
      "Window Size: 1\n",
      "Fitting 5 folds for each of 50 candidates, totalling 250 fits\n"
     ]
    },
    {
     "name": "stderr",
     "output_type": "stream",
     "text": [
      "[Parallel(n_jobs=-1)]: Using backend LokyBackend with 4 concurrent workers.\n",
      "[Parallel(n_jobs=-1)]: Done 128 tasks      | elapsed:    1.8s\n",
      "[Parallel(n_jobs=-1)]: Done 250 out of 250 | elapsed:    4.0s finished\n",
      "/Users/shushumacpro/opt/anaconda3/lib/python3.8/site-packages/sklearn/metrics/_classification.py:1221: UndefinedMetricWarning: Recall and F-score are ill-defined and being set to 0.0 in labels with no true samples. Use `zero_division` parameter to control this behavior.\n",
      "  _warn_prf(average, modifier, msg_start, len(result))\n",
      "[Parallel(n_jobs=-1)]: Using backend LokyBackend with 4 concurrent workers.\n"
     ]
    },
    {
     "name": "stdout",
     "output_type": "stream",
     "text": [
      "______________________________________________\n",
      "Classifier: SVM\n",
      "Precision: 0.92\n",
      "Recall: 0.92\n",
      "F1-score: 0.92\n",
      "______________________________________________\n",
      "                            precision    recall  f1-score   support\n",
      "\n",
      "     advanced maternal age       0.00      0.00      0.00         0\n",
      "    against medical advice       1.00      0.92      0.96        97\n",
      "antimitochondrial antibody       0.60      1.00      0.75         3\n",
      "\n",
      "                  accuracy                           0.92       100\n",
      "                 macro avg       0.53      0.64      0.57       100\n",
      "              weighted avg       0.99      0.92      0.95       100\n",
      "\n",
      "\n",
      "Window Size: 2\n",
      "Fitting 5 folds for each of 50 candidates, totalling 250 fits\n"
     ]
    },
    {
     "name": "stderr",
     "output_type": "stream",
     "text": [
      "[Parallel(n_jobs=-1)]: Done  76 tasks      | elapsed:    2.8s\n",
      "[Parallel(n_jobs=-1)]: Done 250 out of 250 | elapsed:    8.9s finished\n",
      "[Parallel(n_jobs=-1)]: Using backend LokyBackend with 4 concurrent workers.\n"
     ]
    },
    {
     "name": "stdout",
     "output_type": "stream",
     "text": [
      "______________________________________________\n",
      "Classifier: SVM\n",
      "Precision: 0.96\n",
      "Recall: 0.96\n",
      "F1-score: 0.96\n",
      "______________________________________________\n",
      "                            precision    recall  f1-score   support\n",
      "\n",
      "     advanced maternal age       0.67      0.67      0.67         6\n",
      "    against medical advice       1.00      0.98      0.99        91\n",
      "antimitochondrial antibody       0.60      1.00      0.75         3\n",
      "\n",
      "                  accuracy                           0.96       100\n",
      "                 macro avg       0.76      0.88      0.80       100\n",
      "              weighted avg       0.97      0.96      0.96       100\n",
      "\n",
      "\n",
      "Window Size: 3\n",
      "Fitting 5 folds for each of 50 candidates, totalling 250 fits\n"
     ]
    },
    {
     "name": "stderr",
     "output_type": "stream",
     "text": [
      "[Parallel(n_jobs=-1)]: Done  76 tasks      | elapsed:    3.6s\n",
      "[Parallel(n_jobs=-1)]: Done 250 out of 250 | elapsed:   12.0s finished\n"
     ]
    },
    {
     "name": "stdout",
     "output_type": "stream",
     "text": [
      "______________________________________________\n",
      "Classifier: SVM\n",
      "Precision: 0.96\n",
      "Recall: 0.96\n",
      "F1-score: 0.96\n",
      "______________________________________________\n",
      "                            precision    recall  f1-score   support\n",
      "\n",
      "     advanced maternal age       0.67      0.67      0.67         6\n",
      "    against medical advice       1.00      0.98      0.99        91\n",
      "antimitochondrial antibody       0.60      1.00      0.75         3\n",
      "\n",
      "                  accuracy                           0.96       100\n",
      "                 macro avg       0.76      0.88      0.80       100\n",
      "              weighted avg       0.97      0.96      0.96       100\n",
      "\n",
      "\n",
      "Window Size: 4\n",
      "Fitting 5 folds for each of 50 candidates, totalling 250 fits\n"
     ]
    },
    {
     "name": "stderr",
     "output_type": "stream",
     "text": [
      "[Parallel(n_jobs=-1)]: Using backend LokyBackend with 4 concurrent workers.\n",
      "[Parallel(n_jobs=-1)]: Done  42 tasks      | elapsed:    2.8s\n",
      "[Parallel(n_jobs=-1)]: Done 192 tasks      | elapsed:   12.0s\n",
      "[Parallel(n_jobs=-1)]: Done 250 out of 250 | elapsed:   16.2s finished\n"
     ]
    },
    {
     "name": "stdout",
     "output_type": "stream",
     "text": [
      "______________________________________________\n",
      "Classifier: SVM\n",
      "Precision: 0.94\n",
      "Recall: 0.94\n",
      "F1-score: 0.94\n",
      "______________________________________________\n",
      "                            precision    recall  f1-score   support\n",
      "\n",
      "     advanced maternal age       0.50      0.60      0.55         5\n",
      "    against medical advice       0.99      0.96      0.97        92\n",
      "antimitochondrial antibody       0.60      1.00      0.75         3\n",
      "\n",
      "                  accuracy                           0.94       100\n",
      "                 macro avg       0.70      0.85      0.76       100\n",
      "              weighted avg       0.95      0.94      0.94       100\n",
      "\n",
      "\n",
      "Window Size: 5\n",
      "Fitting 5 folds for each of 50 candidates, totalling 250 fits\n"
     ]
    },
    {
     "name": "stderr",
     "output_type": "stream",
     "text": [
      "[Parallel(n_jobs=-1)]: Using backend LokyBackend with 4 concurrent workers.\n",
      "[Parallel(n_jobs=-1)]: Done  42 tasks      | elapsed:    3.5s\n",
      "[Parallel(n_jobs=-1)]: Done 192 tasks      | elapsed:   13.1s\n",
      "[Parallel(n_jobs=-1)]: Done 250 out of 250 | elapsed:   17.2s finished\n"
     ]
    },
    {
     "name": "stdout",
     "output_type": "stream",
     "text": [
      "______________________________________________\n",
      "Classifier: SVM\n",
      "Precision: 0.95\n",
      "Recall: 0.95\n",
      "F1-score: 0.9500000000000001\n",
      "______________________________________________\n",
      "                            precision    recall  f1-score   support\n",
      "\n",
      "     advanced maternal age       0.50      0.75      0.60         4\n",
      "    against medical advice       1.00      0.96      0.98        93\n",
      "antimitochondrial antibody       0.60      1.00      0.75         3\n",
      "\n",
      "                  accuracy                           0.95       100\n",
      "                 macro avg       0.70      0.90      0.78       100\n",
      "              weighted avg       0.97      0.95      0.96       100\n",
      "\n",
      "\n",
      "***********************************************************\n",
      "Window Size: 1\n",
      "Fitting 5 folds for each of 50 candidates, totalling 250 fits\n"
     ]
    },
    {
     "name": "stderr",
     "output_type": "stream",
     "text": [
      "[Parallel(n_jobs=-1)]: Using backend LokyBackend with 4 concurrent workers.\n",
      "[Parallel(n_jobs=-1)]: Done 200 tasks      | elapsed:    1.0s\n",
      "[Parallel(n_jobs=-1)]: Done 250 out of 250 | elapsed:    1.1s finished\n",
      "[Parallel(n_jobs=-1)]: Using backend LokyBackend with 4 concurrent workers.\n"
     ]
    },
    {
     "name": "stdout",
     "output_type": "stream",
     "text": [
      "______________________________________________\n",
      "Classifier: K Nearest Neighbor\n",
      "Precision: 0.91\n",
      "Recall: 0.91\n",
      "F1-score: 0.91\n",
      "______________________________________________\n",
      "                            precision    recall  f1-score   support\n",
      "\n",
      "     advanced maternal age       0.17      0.33      0.22         3\n",
      "    against medical advice       1.00      0.93      0.96        96\n",
      "antimitochondrial antibody       0.20      1.00      0.33         1\n",
      "\n",
      "                  accuracy                           0.91       100\n",
      "                 macro avg       0.46      0.75      0.51       100\n",
      "              weighted avg       0.97      0.91      0.93       100\n",
      "\n",
      "\n",
      "Window Size: 2\n",
      "Fitting 5 folds for each of 50 candidates, totalling 250 fits\n"
     ]
    },
    {
     "name": "stderr",
     "output_type": "stream",
     "text": [
      "[Parallel(n_jobs=-1)]: Done 200 tasks      | elapsed:    1.3s\n",
      "[Parallel(n_jobs=-1)]: Done 250 out of 250 | elapsed:    1.4s finished\n"
     ]
    },
    {
     "name": "stdout",
     "output_type": "stream",
     "text": [
      "______________________________________________\n",
      "Classifier: K Nearest Neighbor\n",
      "Precision: 0.89\n",
      "Recall: 0.89\n",
      "F1-score: 0.89\n",
      "______________________________________________\n",
      "                            precision    recall  f1-score   support\n",
      "\n",
      "     advanced maternal age       0.67      0.31      0.42        13\n",
      "    against medical advice       0.96      0.98      0.97        87\n",
      "antimitochondrial antibody       0.00      0.00      0.00         0\n",
      "\n",
      "                  accuracy                           0.89       100\n",
      "                 macro avg       0.54      0.43      0.46       100\n",
      "              weighted avg       0.92      0.89      0.90       100\n",
      "\n",
      "\n",
      "Window Size: 3\n",
      "Fitting 5 folds for each of 50 candidates, totalling 250 fits\n"
     ]
    },
    {
     "name": "stderr",
     "output_type": "stream",
     "text": [
      "/Users/shushumacpro/opt/anaconda3/lib/python3.8/site-packages/sklearn/metrics/_classification.py:1221: UndefinedMetricWarning: Recall and F-score are ill-defined and being set to 0.0 in labels with no true samples. Use `zero_division` parameter to control this behavior.\n",
      "  _warn_prf(average, modifier, msg_start, len(result))\n",
      "[Parallel(n_jobs=-1)]: Using backend LokyBackend with 4 concurrent workers.\n",
      "[Parallel(n_jobs=-1)]: Done 200 tasks      | elapsed:    1.7s\n",
      "[Parallel(n_jobs=-1)]: Done 250 out of 250 | elapsed:    2.0s finished\n",
      "/Users/shushumacpro/opt/anaconda3/lib/python3.8/site-packages/sklearn/metrics/_classification.py:1221: UndefinedMetricWarning: Recall and F-score are ill-defined and being set to 0.0 in labels with no true samples. Use `zero_division` parameter to control this behavior.\n",
      "  _warn_prf(average, modifier, msg_start, len(result))\n",
      "[Parallel(n_jobs=-1)]: Using backend LokyBackend with 4 concurrent workers.\n"
     ]
    },
    {
     "name": "stdout",
     "output_type": "stream",
     "text": [
      "______________________________________________\n",
      "Classifier: K Nearest Neighbor\n",
      "Precision: 0.89\n",
      "Recall: 0.89\n",
      "F1-score: 0.89\n",
      "______________________________________________\n",
      "                            precision    recall  f1-score   support\n",
      "\n",
      "     advanced maternal age       0.83      0.33      0.48        15\n",
      "    against medical advice       0.94      0.99      0.97        85\n",
      "antimitochondrial antibody       0.00      0.00      0.00         0\n",
      "\n",
      "                  accuracy                           0.89       100\n",
      "                 macro avg       0.59      0.44      0.48       100\n",
      "              weighted avg       0.93      0.89      0.89       100\n",
      "\n",
      "\n",
      "Window Size: 4\n",
      "Fitting 5 folds for each of 50 candidates, totalling 250 fits\n"
     ]
    },
    {
     "name": "stderr",
     "output_type": "stream",
     "text": [
      "[Parallel(n_jobs=-1)]: Done 128 tasks      | elapsed:    1.3s\n",
      "[Parallel(n_jobs=-1)]: Done 250 out of 250 | elapsed:    2.4s finished\n",
      "/Users/shushumacpro/opt/anaconda3/lib/python3.8/site-packages/sklearn/metrics/_classification.py:1221: UndefinedMetricWarning: Recall and F-score are ill-defined and being set to 0.0 in labels with no true samples. Use `zero_division` parameter to control this behavior.\n",
      "  _warn_prf(average, modifier, msg_start, len(result))\n",
      "[Parallel(n_jobs=-1)]: Using backend LokyBackend with 4 concurrent workers.\n"
     ]
    },
    {
     "name": "stdout",
     "output_type": "stream",
     "text": [
      "______________________________________________\n",
      "Classifier: K Nearest Neighbor\n",
      "Precision: 0.92\n",
      "Recall: 0.92\n",
      "F1-score: 0.92\n",
      "______________________________________________\n",
      "                            precision    recall  f1-score   support\n",
      "\n",
      "     advanced maternal age       1.00      0.46      0.63        13\n",
      "    against medical advice       0.97      0.99      0.98        87\n",
      "antimitochondrial antibody       0.00      0.00      0.00         0\n",
      "\n",
      "                  accuracy                           0.92       100\n",
      "                 macro avg       0.66      0.48      0.54       100\n",
      "              weighted avg       0.97      0.92      0.93       100\n",
      "\n",
      "\n",
      "Window Size: 5\n",
      "Fitting 5 folds for each of 50 candidates, totalling 250 fits\n"
     ]
    },
    {
     "name": "stderr",
     "output_type": "stream",
     "text": [
      "[Parallel(n_jobs=-1)]: Done 128 tasks      | elapsed:    1.5s\n"
     ]
    },
    {
     "name": "stdout",
     "output_type": "stream",
     "text": [
      "______________________________________________\n",
      "Classifier: K Nearest Neighbor\n",
      "Precision: 0.74\n",
      "Recall: 0.74\n",
      "F1-score: 0.74\n",
      "______________________________________________\n",
      "                            precision    recall  f1-score   support\n",
      "\n",
      "     advanced maternal age       1.00      0.19      0.32        32\n",
      "    against medical advice       0.76      1.00      0.87        68\n",
      "antimitochondrial antibody       0.00      0.00      0.00         0\n",
      "\n",
      "                  accuracy                           0.74       100\n",
      "                 macro avg       0.59      0.40      0.39       100\n",
      "              weighted avg       0.84      0.74      0.69       100\n",
      "\n",
      "\n"
     ]
    },
    {
     "name": "stderr",
     "output_type": "stream",
     "text": [
      "[Parallel(n_jobs=-1)]: Done 250 out of 250 | elapsed:    2.8s finished\n",
      "/Users/shushumacpro/opt/anaconda3/lib/python3.8/site-packages/sklearn/metrics/_classification.py:1221: UndefinedMetricWarning: Recall and F-score are ill-defined and being set to 0.0 in labels with no true samples. Use `zero_division` parameter to control this behavior.\n",
      "  _warn_prf(average, modifier, msg_start, len(result))\n"
     ]
    }
   ],
   "source": [
    "# LR - window size (1,5)\n",
    "for i in range(1,6):\n",
    "    print('Window Size:', i)\n",
    "    display_metrics(\"Logistic Regression\",logistic_regression_pred(train_X[i],train_y[i],test_X[i]),test_y[i])\n",
    "\n",
    "print('***********************************************************')\n",
    "for i in range(1,6):\n",
    "    print('Window Size:', i)\n",
    "    display_metrics(\"SVM\",svm_pred(train_X[i],train_y[i],test_X[i]),test_y[i])\n",
    "\n",
    "print('***********************************************************')\n",
    "for i in range(1,6):\n",
    "    print('Window Size:', i)\n",
    "    display_metrics(\"K Nearest Neighbor\",knn_pred(train_X[i],train_y[i],test_X[i]),test_y[i])"
   ]
  },
  {
   "cell_type": "markdown",
   "metadata": {},
   "source": [
    "# For direction features"
   ]
  },
  {
   "cell_type": "code",
   "execution_count": 56,
   "metadata": {},
   "outputs": [
    {
     "name": "stdout",
     "output_type": "stream",
     "text": [
      "Window Size: 1\n",
      "Fitting 5 folds for each of 50 candidates, totalling 250 fits\n"
     ]
    },
    {
     "name": "stderr",
     "output_type": "stream",
     "text": [
      "[Parallel(n_jobs=-1)]: Using backend LokyBackend with 4 concurrent workers.\n",
      "[Parallel(n_jobs=-1)]: Done 250 out of 250 | elapsed:    1.6s finished\n",
      "[Parallel(n_jobs=-1)]: Using backend LokyBackend with 4 concurrent workers.\n"
     ]
    },
    {
     "name": "stdout",
     "output_type": "stream",
     "text": [
      "______________________________________________\n",
      "Classifier: Logistic Regression\n",
      "Precision: 0.98\n",
      "Recall: 0.98\n",
      "F1-score: 0.98\n",
      "______________________________________________\n",
      "                            precision    recall  f1-score   support\n",
      "\n",
      "     advanced maternal age       1.00      0.86      0.92         7\n",
      "    against medical advice       0.99      0.99      0.99        89\n",
      "antimitochondrial antibody       0.80      1.00      0.89         4\n",
      "\n",
      "                  accuracy                           0.98       100\n",
      "                 macro avg       0.93      0.95      0.93       100\n",
      "              weighted avg       0.98      0.98      0.98       100\n",
      "\n",
      "\n",
      "Window Size: 2\n",
      "Fitting 5 folds for each of 50 candidates, totalling 250 fits\n"
     ]
    },
    {
     "name": "stderr",
     "output_type": "stream",
     "text": [
      "[Parallel(n_jobs=-1)]: Done 200 tasks      | elapsed:    1.8s\n",
      "[Parallel(n_jobs=-1)]: Done 250 out of 250 | elapsed:    2.0s finished\n"
     ]
    },
    {
     "name": "stdout",
     "output_type": "stream",
     "text": [
      "______________________________________________\n",
      "Classifier: Logistic Regression\n",
      "Precision: 0.96\n",
      "Recall: 0.96\n",
      "F1-score: 0.96\n",
      "______________________________________________\n",
      "                            precision    recall  f1-score   support\n",
      "\n",
      "     advanced maternal age       0.67      0.80      0.73         5\n",
      "    against medical advice       1.00      0.97      0.98        92\n",
      "antimitochondrial antibody       0.60      1.00      0.75         3\n",
      "\n",
      "                  accuracy                           0.96       100\n",
      "                 macro avg       0.76      0.92      0.82       100\n",
      "              weighted avg       0.97      0.96      0.96       100\n",
      "\n",
      "\n",
      "Window Size: 3\n",
      "Fitting 5 folds for each of 50 candidates, totalling 250 fits\n"
     ]
    },
    {
     "name": "stderr",
     "output_type": "stream",
     "text": [
      "[Parallel(n_jobs=-1)]: Using backend LokyBackend with 4 concurrent workers.\n",
      "[Parallel(n_jobs=-1)]: Done 200 tasks      | elapsed:    2.0s\n",
      "[Parallel(n_jobs=-1)]: Done 250 out of 250 | elapsed:    2.4s finished\n",
      "[Parallel(n_jobs=-1)]: Using backend LokyBackend with 4 concurrent workers.\n"
     ]
    },
    {
     "name": "stdout",
     "output_type": "stream",
     "text": [
      "______________________________________________\n",
      "Classifier: Logistic Regression\n",
      "Precision: 0.94\n",
      "Recall: 0.94\n",
      "F1-score: 0.94\n",
      "______________________________________________\n",
      "                            precision    recall  f1-score   support\n",
      "\n",
      "     advanced maternal age       0.67      0.57      0.62         7\n",
      "    against medical advice       0.99      0.97      0.98        91\n",
      "antimitochondrial antibody       0.40      1.00      0.57         2\n",
      "\n",
      "                  accuracy                           0.94       100\n",
      "                 macro avg       0.69      0.85      0.72       100\n",
      "              weighted avg       0.95      0.94      0.94       100\n",
      "\n",
      "\n",
      "Window Size: 4\n",
      "Fitting 5 folds for each of 50 candidates, totalling 250 fits\n"
     ]
    },
    {
     "name": "stderr",
     "output_type": "stream",
     "text": [
      "[Parallel(n_jobs=-1)]: Done  76 tasks      | elapsed:    1.5s\n",
      "[Parallel(n_jobs=-1)]: Done 250 out of 250 | elapsed:    3.7s finished\n",
      "[Parallel(n_jobs=-1)]: Using backend LokyBackend with 4 concurrent workers.\n"
     ]
    },
    {
     "name": "stdout",
     "output_type": "stream",
     "text": [
      "______________________________________________\n",
      "Classifier: Logistic Regression\n",
      "Precision: 0.93\n",
      "Recall: 0.93\n",
      "F1-score: 0.93\n",
      "______________________________________________\n",
      "                            precision    recall  f1-score   support\n",
      "\n",
      "     advanced maternal age       0.50      0.60      0.55         5\n",
      "    against medical advice       0.99      0.95      0.97        93\n",
      "antimitochondrial antibody       0.40      1.00      0.57         2\n",
      "\n",
      "                  accuracy                           0.93       100\n",
      "                 macro avg       0.63      0.85      0.69       100\n",
      "              weighted avg       0.95      0.93      0.94       100\n",
      "\n",
      "\n",
      "Window Size: 5\n",
      "Fitting 5 folds for each of 50 candidates, totalling 250 fits\n"
     ]
    },
    {
     "name": "stderr",
     "output_type": "stream",
     "text": [
      "[Parallel(n_jobs=-1)]: Done 128 tasks      | elapsed:    1.9s\n",
      "[Parallel(n_jobs=-1)]: Done 250 out of 250 | elapsed:    3.6s finished\n",
      "[Parallel(n_jobs=-1)]: Using backend LokyBackend with 4 concurrent workers.\n"
     ]
    },
    {
     "name": "stdout",
     "output_type": "stream",
     "text": [
      "______________________________________________\n",
      "Classifier: Logistic Regression\n",
      "Precision: 0.95\n",
      "Recall: 0.95\n",
      "F1-score: 0.9500000000000001\n",
      "______________________________________________\n",
      "                            precision    recall  f1-score   support\n",
      "\n",
      "     advanced maternal age       0.67      0.80      0.73         5\n",
      "    against medical advice       1.00      0.96      0.98        93\n",
      "antimitochondrial antibody       0.40      1.00      0.57         2\n",
      "\n",
      "                  accuracy                           0.95       100\n",
      "                 macro avg       0.69      0.92      0.76       100\n",
      "              weighted avg       0.97      0.95      0.96       100\n",
      "\n",
      "\n",
      "***********************************************************\n",
      "Window Size: 1\n",
      "Fitting 5 folds for each of 50 candidates, totalling 250 fits\n"
     ]
    },
    {
     "name": "stderr",
     "output_type": "stream",
     "text": [
      "[Parallel(n_jobs=-1)]: Done 128 tasks      | elapsed:    2.4s\n",
      "[Parallel(n_jobs=-1)]: Done 250 out of 250 | elapsed:    5.0s finished\n",
      "/Users/shushumacpro/opt/anaconda3/lib/python3.8/site-packages/sklearn/metrics/_classification.py:1221: UndefinedMetricWarning: Recall and F-score are ill-defined and being set to 0.0 in labels with no true samples. Use `zero_division` parameter to control this behavior.\n",
      "  _warn_prf(average, modifier, msg_start, len(result))\n",
      "[Parallel(n_jobs=-1)]: Using backend LokyBackend with 4 concurrent workers.\n"
     ]
    },
    {
     "name": "stdout",
     "output_type": "stream",
     "text": [
      "______________________________________________\n",
      "Classifier: SVM\n",
      "Precision: 0.91\n",
      "Recall: 0.91\n",
      "F1-score: 0.91\n",
      "______________________________________________\n",
      "                            precision    recall  f1-score   support\n",
      "\n",
      "     advanced maternal age       0.00      0.00      0.00         0\n",
      "    against medical advice       0.99      0.92      0.95        96\n",
      "antimitochondrial antibody       0.60      0.75      0.67         4\n",
      "\n",
      "                  accuracy                           0.91       100\n",
      "                 macro avg       0.53      0.56      0.54       100\n",
      "              weighted avg       0.97      0.91      0.94       100\n",
      "\n",
      "\n",
      "Window Size: 2\n",
      "Fitting 5 folds for each of 50 candidates, totalling 250 fits\n"
     ]
    },
    {
     "name": "stderr",
     "output_type": "stream",
     "text": [
      "[Parallel(n_jobs=-1)]: Done  42 tasks      | elapsed:    1.7s\n",
      "[Parallel(n_jobs=-1)]: Done 192 tasks      | elapsed:    7.9s\n",
      "[Parallel(n_jobs=-1)]: Done 250 out of 250 | elapsed:   10.4s finished\n"
     ]
    },
    {
     "name": "stdout",
     "output_type": "stream",
     "text": [
      "______________________________________________\n",
      "Classifier: SVM\n",
      "Precision: 0.97\n",
      "Recall: 0.97\n",
      "F1-score: 0.97\n",
      "______________________________________________\n",
      "                            precision    recall  f1-score   support\n",
      "\n",
      "     advanced maternal age       0.67      0.80      0.73         5\n",
      "    against medical advice       1.00      0.98      0.99        91\n",
      "antimitochondrial antibody       0.80      1.00      0.89         4\n",
      "\n",
      "                  accuracy                           0.97       100\n",
      "                 macro avg       0.82      0.93      0.87       100\n",
      "              weighted avg       0.98      0.97      0.97       100\n",
      "\n",
      "\n",
      "Window Size: 3\n",
      "Fitting 5 folds for each of 50 candidates, totalling 250 fits\n"
     ]
    },
    {
     "name": "stderr",
     "output_type": "stream",
     "text": [
      "[Parallel(n_jobs=-1)]: Using backend LokyBackend with 4 concurrent workers.\n",
      "[Parallel(n_jobs=-1)]: Done  42 tasks      | elapsed:    2.6s\n",
      "[Parallel(n_jobs=-1)]: Done 192 tasks      | elapsed:   12.0s\n",
      "[Parallel(n_jobs=-1)]: Done 250 out of 250 | elapsed:   15.7s finished\n"
     ]
    },
    {
     "name": "stdout",
     "output_type": "stream",
     "text": [
      "______________________________________________\n",
      "Classifier: SVM\n",
      "Precision: 0.94\n",
      "Recall: 0.94\n",
      "F1-score: 0.94\n",
      "______________________________________________\n",
      "                            precision    recall  f1-score   support\n",
      "\n",
      "     advanced maternal age       0.67      0.57      0.62         7\n",
      "    against medical advice       0.99      0.97      0.98        91\n",
      "antimitochondrial antibody       0.40      1.00      0.57         2\n",
      "\n",
      "                  accuracy                           0.94       100\n",
      "                 macro avg       0.69      0.85      0.72       100\n",
      "              weighted avg       0.95      0.94      0.94       100\n",
      "\n",
      "\n",
      "Window Size: 4\n",
      "Fitting 5 folds for each of 50 candidates, totalling 250 fits\n"
     ]
    },
    {
     "name": "stderr",
     "output_type": "stream",
     "text": [
      "[Parallel(n_jobs=-1)]: Using backend LokyBackend with 4 concurrent workers.\n",
      "[Parallel(n_jobs=-1)]: Done  42 tasks      | elapsed:    3.5s\n",
      "[Parallel(n_jobs=-1)]: Done 192 tasks      | elapsed:   15.6s\n",
      "[Parallel(n_jobs=-1)]: Done 250 out of 250 | elapsed:   19.9s finished\n"
     ]
    },
    {
     "name": "stdout",
     "output_type": "stream",
     "text": [
      "______________________________________________\n",
      "Classifier: SVM\n",
      "Precision: 0.95\n",
      "Recall: 0.95\n",
      "F1-score: 0.9500000000000001\n",
      "______________________________________________\n",
      "                            precision    recall  f1-score   support\n",
      "\n",
      "     advanced maternal age       0.83      0.62      0.71         8\n",
      "    against medical advice       0.99      0.98      0.98        90\n",
      "antimitochondrial antibody       0.40      1.00      0.57         2\n",
      "\n",
      "                  accuracy                           0.95       100\n",
      "                 macro avg       0.74      0.87      0.76       100\n",
      "              weighted avg       0.96      0.95      0.95       100\n",
      "\n",
      "\n",
      "Window Size: 5\n",
      "Fitting 5 folds for each of 50 candidates, totalling 250 fits\n"
     ]
    },
    {
     "name": "stderr",
     "output_type": "stream",
     "text": [
      "[Parallel(n_jobs=-1)]: Using backend LokyBackend with 4 concurrent workers.\n",
      "[Parallel(n_jobs=-1)]: Done  42 tasks      | elapsed:    4.6s\n",
      "[Parallel(n_jobs=-1)]: Done 192 tasks      | elapsed:   19.5s\n",
      "[Parallel(n_jobs=-1)]: Done 250 out of 250 | elapsed:   25.7s finished\n"
     ]
    },
    {
     "name": "stdout",
     "output_type": "stream",
     "text": [
      "______________________________________________\n",
      "Classifier: SVM\n",
      "Precision: 0.96\n",
      "Recall: 0.96\n",
      "F1-score: 0.96\n",
      "______________________________________________\n",
      "                            precision    recall  f1-score   support\n",
      "\n",
      "     advanced maternal age       0.83      0.71      0.77         7\n",
      "    against medical advice       1.00      0.98      0.99        91\n",
      "antimitochondrial antibody       0.40      1.00      0.57         2\n",
      "\n",
      "                  accuracy                           0.96       100\n",
      "                 macro avg       0.74      0.90      0.78       100\n",
      "              weighted avg       0.98      0.96      0.97       100\n",
      "\n",
      "\n",
      "***********************************************************\n",
      "Window Size: 1\n",
      "Fitting 5 folds for each of 50 candidates, totalling 250 fits\n"
     ]
    },
    {
     "name": "stderr",
     "output_type": "stream",
     "text": [
      "[Parallel(n_jobs=-1)]: Using backend LokyBackend with 4 concurrent workers.\n",
      "[Parallel(n_jobs=-1)]: Done 200 tasks      | elapsed:    1.0s\n",
      "[Parallel(n_jobs=-1)]: Done 250 out of 250 | elapsed:    1.1s finished\n",
      "/Users/shushumacpro/opt/anaconda3/lib/python3.8/site-packages/sklearn/metrics/_classification.py:1221: UndefinedMetricWarning: Recall and F-score are ill-defined and being set to 0.0 in labels with no true samples. Use `zero_division` parameter to control this behavior.\n",
      "  _warn_prf(average, modifier, msg_start, len(result))\n",
      "[Parallel(n_jobs=-1)]: Using backend LokyBackend with 4 concurrent workers.\n"
     ]
    },
    {
     "name": "stdout",
     "output_type": "stream",
     "text": [
      "______________________________________________\n",
      "Classifier: K Nearest Neighbor\n",
      "Precision: 0.89\n",
      "Recall: 0.89\n",
      "F1-score: 0.89\n",
      "______________________________________________\n",
      "                            precision    recall  f1-score   support\n",
      "\n",
      "     advanced maternal age       0.50      0.27      0.35        11\n",
      "    against medical advice       0.97      0.97      0.97        89\n",
      "antimitochondrial antibody       0.00      0.00      0.00         0\n",
      "\n",
      "                  accuracy                           0.89       100\n",
      "                 macro avg       0.49      0.41      0.44       100\n",
      "              weighted avg       0.92      0.89      0.90       100\n",
      "\n",
      "\n",
      "Window Size: 2\n",
      "Fitting 5 folds for each of 50 candidates, totalling 250 fits\n"
     ]
    },
    {
     "name": "stderr",
     "output_type": "stream",
     "text": [
      "[Parallel(n_jobs=-1)]: Done 200 tasks      | elapsed:    1.6s\n",
      "[Parallel(n_jobs=-1)]: Done 250 out of 250 | elapsed:    1.8s finished\n",
      "/Users/shushumacpro/opt/anaconda3/lib/python3.8/site-packages/sklearn/metrics/_classification.py:1221: UndefinedMetricWarning: Recall and F-score are ill-defined and being set to 0.0 in labels with no true samples. Use `zero_division` parameter to control this behavior.\n",
      "  _warn_prf(average, modifier, msg_start, len(result))\n",
      "[Parallel(n_jobs=-1)]: Using backend LokyBackend with 4 concurrent workers.\n"
     ]
    },
    {
     "name": "stdout",
     "output_type": "stream",
     "text": [
      "______________________________________________\n",
      "Classifier: K Nearest Neighbor\n",
      "Precision: 0.92\n",
      "Recall: 0.92\n",
      "F1-score: 0.92\n",
      "______________________________________________\n",
      "                            precision    recall  f1-score   support\n",
      "\n",
      "     advanced maternal age       0.67      0.40      0.50        10\n",
      "    against medical advice       0.99      0.98      0.98        90\n",
      "antimitochondrial antibody       0.00      0.00      0.00         0\n",
      "\n",
      "                  accuracy                           0.92       100\n",
      "                 macro avg       0.55      0.46      0.49       100\n",
      "              weighted avg       0.96      0.92      0.93       100\n",
      "\n",
      "\n",
      "Window Size: 3\n",
      "Fitting 5 folds for each of 50 candidates, totalling 250 fits\n"
     ]
    },
    {
     "name": "stderr",
     "output_type": "stream",
     "text": [
      "[Parallel(n_jobs=-1)]: Done 128 tasks      | elapsed:    1.5s\n",
      "[Parallel(n_jobs=-1)]: Done 250 out of 250 | elapsed:    2.8s finished\n",
      "/Users/shushumacpro/opt/anaconda3/lib/python3.8/site-packages/sklearn/metrics/_classification.py:1221: UndefinedMetricWarning: Recall and F-score are ill-defined and being set to 0.0 in labels with no true samples. Use `zero_division` parameter to control this behavior.\n",
      "  _warn_prf(average, modifier, msg_start, len(result))\n",
      "[Parallel(n_jobs=-1)]: Using backend LokyBackend with 4 concurrent workers.\n"
     ]
    },
    {
     "name": "stdout",
     "output_type": "stream",
     "text": [
      "______________________________________________\n",
      "Classifier: K Nearest Neighbor\n",
      "Precision: 0.82\n",
      "Recall: 0.82\n",
      "F1-score: 0.82\n",
      "______________________________________________\n",
      "                            precision    recall  f1-score   support\n",
      "\n",
      "     advanced maternal age       0.83      0.23      0.36        22\n",
      "    against medical advice       0.87      0.99      0.92        78\n",
      "antimitochondrial antibody       0.00      0.00      0.00         0\n",
      "\n",
      "                  accuracy                           0.82       100\n",
      "                 macro avg       0.57      0.40      0.43       100\n",
      "              weighted avg       0.86      0.82      0.80       100\n",
      "\n",
      "\n",
      "Window Size: 4\n",
      "Fitting 5 folds for each of 50 candidates, totalling 250 fits\n"
     ]
    },
    {
     "name": "stderr",
     "output_type": "stream",
     "text": [
      "[Parallel(n_jobs=-1)]: Done 128 tasks      | elapsed:    2.0s\n",
      "[Parallel(n_jobs=-1)]: Done 250 out of 250 | elapsed:    3.5s finished\n",
      "/Users/shushumacpro/opt/anaconda3/lib/python3.8/site-packages/sklearn/metrics/_classification.py:1221: UndefinedMetricWarning: Recall and F-score are ill-defined and being set to 0.0 in labels with no true samples. Use `zero_division` parameter to control this behavior.\n",
      "  _warn_prf(average, modifier, msg_start, len(result))\n",
      "[Parallel(n_jobs=-1)]: Using backend LokyBackend with 4 concurrent workers.\n"
     ]
    },
    {
     "name": "stdout",
     "output_type": "stream",
     "text": [
      "______________________________________________\n",
      "Classifier: K Nearest Neighbor\n",
      "Precision: 0.64\n",
      "Recall: 0.64\n",
      "F1-score: 0.64\n",
      "______________________________________________\n",
      "                            precision    recall  f1-score   support\n",
      "\n",
      "     advanced maternal age       1.00      0.14      0.25        42\n",
      "    against medical advice       0.65      1.00      0.79        58\n",
      "antimitochondrial antibody       0.00      0.00      0.00         0\n",
      "\n",
      "                  accuracy                           0.64       100\n",
      "                 macro avg       0.55      0.38      0.35       100\n",
      "              weighted avg       0.80      0.64      0.56       100\n",
      "\n",
      "\n",
      "Window Size: 5\n",
      "Fitting 5 folds for each of 50 candidates, totalling 250 fits\n"
     ]
    },
    {
     "name": "stderr",
     "output_type": "stream",
     "text": [
      "[Parallel(n_jobs=-1)]: Done 128 tasks      | elapsed:    2.5s\n"
     ]
    },
    {
     "name": "stdout",
     "output_type": "stream",
     "text": [
      "______________________________________________\n",
      "Classifier: K Nearest Neighbor\n",
      "Precision: 0.58\n",
      "Recall: 0.58\n",
      "F1-score: 0.58\n",
      "______________________________________________\n",
      "                            precision    recall  f1-score   support\n",
      "\n",
      "     advanced maternal age       1.00      0.12      0.22        48\n",
      "    against medical advice       0.58      1.00      0.74        52\n",
      "antimitochondrial antibody       0.00      0.00      0.00         0\n",
      "\n",
      "                  accuracy                           0.58       100\n",
      "                 macro avg       0.53      0.38      0.32       100\n",
      "              weighted avg       0.78      0.58      0.49       100\n",
      "\n",
      "\n"
     ]
    },
    {
     "name": "stderr",
     "output_type": "stream",
     "text": [
      "[Parallel(n_jobs=-1)]: Done 250 out of 250 | elapsed:    4.6s finished\n",
      "/Users/shushumacpro/opt/anaconda3/lib/python3.8/site-packages/sklearn/metrics/_classification.py:1221: UndefinedMetricWarning: Recall and F-score are ill-defined and being set to 0.0 in labels with no true samples. Use `zero_division` parameter to control this behavior.\n",
      "  _warn_prf(average, modifier, msg_start, len(result))\n"
     ]
    }
   ],
   "source": [
    "features = {}\n",
    "names = {}\n",
    "\n",
    "for i in range(1,6):\n",
    "    features[i],names[i]=one_hot_features_single('AMA', i, feature_no=2, replace=True)#not use ald as they have number of sense=1\n",
    "\n",
    "# split train and test\n",
    "\n",
    "y=cr1['sense'].values\n",
    "\n",
    "train_X = {} \n",
    "test_X = {}\n",
    "train_y = {}\n",
    "test_y = {}\n",
    "\n",
    "for i in range(1,6):\n",
    "    train_X[i],test_X[i],train_y[i],test_y[i] = train_test_split(features[i], y, test_size=0.2, random_state=13, shuffle=True, stratify=y)\n",
    "    \n",
    "# Train model\n",
    "for i in range(1,6):\n",
    "    print('Window Size:', i)\n",
    "    display_metrics(\"Logistic Regression\",logistic_regression_pred(train_X[i],train_y[i],test_X[i]),test_y[i])\n",
    "\n",
    "print('***********************************************************')\n",
    "for i in range(1,6):\n",
    "    print('Window Size:', i)\n",
    "    display_metrics(\"SVM\",svm_pred(train_X[i],train_y[i],test_X[i]),test_y[i])\n",
    "\n",
    "print('***********************************************************')\n",
    "for i in range(1,6):\n",
    "    print('Window Size:', i)\n",
    "    display_metrics(\"K Nearest Neighbor\",knn_pred(train_X[i],train_y[i],test_X[i]),test_y[i])"
   ]
  },
  {
   "cell_type": "markdown",
   "metadata": {},
   "source": [
    "# For direction features with number"
   ]
  },
  {
   "cell_type": "code",
   "execution_count": 60,
   "metadata": {},
   "outputs": [
    {
     "name": "stdout",
     "output_type": "stream",
     "text": [
      "Window Size: 1\n",
      "Fitting 5 folds for each of 50 candidates, totalling 250 fits\n"
     ]
    },
    {
     "name": "stderr",
     "output_type": "stream",
     "text": [
      "[Parallel(n_jobs=-1)]: Using backend LokyBackend with 4 concurrent workers.\n",
      "[Parallel(n_jobs=-1)]: Done 250 out of 250 | elapsed:    1.5s finished\n",
      "[Parallel(n_jobs=-1)]: Using backend LokyBackend with 4 concurrent workers.\n"
     ]
    },
    {
     "name": "stdout",
     "output_type": "stream",
     "text": [
      "______________________________________________\n",
      "Classifier: Logistic Regression\n",
      "Precision: 0.98\n",
      "Recall: 0.98\n",
      "F1-score: 0.98\n",
      "______________________________________________\n",
      "                            precision    recall  f1-score   support\n",
      "\n",
      "     advanced maternal age       1.00      0.86      0.92         7\n",
      "    against medical advice       0.99      0.99      0.99        89\n",
      "antimitochondrial antibody       0.80      1.00      0.89         4\n",
      "\n",
      "                  accuracy                           0.98       100\n",
      "                 macro avg       0.93      0.95      0.93       100\n",
      "              weighted avg       0.98      0.98      0.98       100\n",
      "\n",
      "\n",
      "Window Size: 2\n",
      "Fitting 5 folds for each of 50 candidates, totalling 250 fits\n"
     ]
    },
    {
     "name": "stderr",
     "output_type": "stream",
     "text": [
      "[Parallel(n_jobs=-1)]: Done 200 tasks      | elapsed:    1.8s\n",
      "[Parallel(n_jobs=-1)]: Done 250 out of 250 | elapsed:    1.9s finished\n"
     ]
    },
    {
     "name": "stdout",
     "output_type": "stream",
     "text": [
      "______________________________________________\n",
      "Classifier: Logistic Regression\n",
      "Precision: 0.96\n",
      "Recall: 0.96\n",
      "F1-score: 0.96\n",
      "______________________________________________\n",
      "                            precision    recall  f1-score   support\n",
      "\n",
      "     advanced maternal age       0.67      0.80      0.73         5\n",
      "    against medical advice       1.00      0.97      0.98        92\n",
      "antimitochondrial antibody       0.60      1.00      0.75         3\n",
      "\n",
      "                  accuracy                           0.96       100\n",
      "                 macro avg       0.76      0.92      0.82       100\n",
      "              weighted avg       0.97      0.96      0.96       100\n",
      "\n",
      "\n",
      "Window Size: 3\n",
      "Fitting 5 folds for each of 50 candidates, totalling 250 fits\n"
     ]
    },
    {
     "name": "stderr",
     "output_type": "stream",
     "text": [
      "[Parallel(n_jobs=-1)]: Using backend LokyBackend with 4 concurrent workers.\n",
      "[Parallel(n_jobs=-1)]: Done 176 tasks      | elapsed:    2.2s\n",
      "[Parallel(n_jobs=-1)]: Done 250 out of 250 | elapsed:    3.0s finished\n",
      "[Parallel(n_jobs=-1)]: Using backend LokyBackend with 4 concurrent workers.\n"
     ]
    },
    {
     "name": "stdout",
     "output_type": "stream",
     "text": [
      "______________________________________________\n",
      "Classifier: Logistic Regression\n",
      "Precision: 0.96\n",
      "Recall: 0.96\n",
      "F1-score: 0.96\n",
      "______________________________________________\n",
      "                            precision    recall  f1-score   support\n",
      "\n",
      "     advanced maternal age       0.67      0.80      0.73         5\n",
      "    against medical advice       1.00      0.97      0.98        92\n",
      "antimitochondrial antibody       0.60      1.00      0.75         3\n",
      "\n",
      "                  accuracy                           0.96       100\n",
      "                 macro avg       0.76      0.92      0.82       100\n",
      "              weighted avg       0.97      0.96      0.96       100\n",
      "\n",
      "\n",
      "Window Size: 4\n",
      "Fitting 5 folds for each of 50 candidates, totalling 250 fits\n"
     ]
    },
    {
     "name": "stderr",
     "output_type": "stream",
     "text": [
      "[Parallel(n_jobs=-1)]: Done 128 tasks      | elapsed:    1.9s\n",
      "[Parallel(n_jobs=-1)]: Done 250 out of 250 | elapsed:    4.1s finished\n",
      "[Parallel(n_jobs=-1)]: Using backend LokyBackend with 4 concurrent workers.\n"
     ]
    },
    {
     "name": "stdout",
     "output_type": "stream",
     "text": [
      "______________________________________________\n",
      "Classifier: Logistic Regression\n",
      "Precision: 0.95\n",
      "Recall: 0.95\n",
      "F1-score: 0.9500000000000001\n",
      "______________________________________________\n",
      "                            precision    recall  f1-score   support\n",
      "\n",
      "     advanced maternal age       0.50      0.75      0.60         4\n",
      "    against medical advice       1.00      0.96      0.98        93\n",
      "antimitochondrial antibody       0.60      1.00      0.75         3\n",
      "\n",
      "                  accuracy                           0.95       100\n",
      "                 macro avg       0.70      0.90      0.78       100\n",
      "              weighted avg       0.97      0.95      0.96       100\n",
      "\n",
      "\n",
      "Window Size: 5\n",
      "Fitting 5 folds for each of 50 candidates, totalling 250 fits\n"
     ]
    },
    {
     "name": "stderr",
     "output_type": "stream",
     "text": [
      "[Parallel(n_jobs=-1)]: Done  76 tasks      | elapsed:    2.4s\n",
      "[Parallel(n_jobs=-1)]: Done 250 out of 250 | elapsed:    6.4s finished\n",
      "[Parallel(n_jobs=-1)]: Using backend LokyBackend with 4 concurrent workers.\n"
     ]
    },
    {
     "name": "stdout",
     "output_type": "stream",
     "text": [
      "______________________________________________\n",
      "Classifier: Logistic Regression\n",
      "Precision: 0.93\n",
      "Recall: 0.93\n",
      "F1-score: 0.93\n",
      "______________________________________________\n",
      "                            precision    recall  f1-score   support\n",
      "\n",
      "     advanced maternal age       0.83      0.50      0.62        10\n",
      "    against medical advice       0.96      0.99      0.97        86\n",
      "antimitochondrial antibody       0.60      0.75      0.67         4\n",
      "\n",
      "                  accuracy                           0.93       100\n",
      "                 macro avg       0.80      0.75      0.75       100\n",
      "              weighted avg       0.93      0.93      0.92       100\n",
      "\n",
      "\n",
      "***********************************************************\n",
      "Window Size: 1\n",
      "Fitting 5 folds for each of 50 candidates, totalling 250 fits\n"
     ]
    },
    {
     "name": "stderr",
     "output_type": "stream",
     "text": [
      "[Parallel(n_jobs=-1)]: Done 128 tasks      | elapsed:    2.2s\n",
      "[Parallel(n_jobs=-1)]: Done 250 out of 250 | elapsed:    4.4s finished\n",
      "/Users/shushumacpro/opt/anaconda3/lib/python3.8/site-packages/sklearn/metrics/_classification.py:1221: UndefinedMetricWarning: Recall and F-score are ill-defined and being set to 0.0 in labels with no true samples. Use `zero_division` parameter to control this behavior.\n",
      "  _warn_prf(average, modifier, msg_start, len(result))\n",
      "[Parallel(n_jobs=-1)]: Using backend LokyBackend with 4 concurrent workers.\n"
     ]
    },
    {
     "name": "stdout",
     "output_type": "stream",
     "text": [
      "______________________________________________\n",
      "Classifier: SVM\n",
      "Precision: 0.91\n",
      "Recall: 0.91\n",
      "F1-score: 0.91\n",
      "______________________________________________\n",
      "                            precision    recall  f1-score   support\n",
      "\n",
      "     advanced maternal age       0.00      0.00      0.00         0\n",
      "    against medical advice       0.99      0.92      0.95        96\n",
      "antimitochondrial antibody       0.60      0.75      0.67         4\n",
      "\n",
      "                  accuracy                           0.91       100\n",
      "                 macro avg       0.53      0.56      0.54       100\n",
      "              weighted avg       0.97      0.91      0.94       100\n",
      "\n",
      "\n",
      "Window Size: 2\n",
      "Fitting 5 folds for each of 50 candidates, totalling 250 fits\n"
     ]
    },
    {
     "name": "stderr",
     "output_type": "stream",
     "text": [
      "[Parallel(n_jobs=-1)]: Done  42 tasks      | elapsed:    2.6s\n",
      "[Parallel(n_jobs=-1)]: Done 192 tasks      | elapsed:   10.1s\n",
      "[Parallel(n_jobs=-1)]: Done 250 out of 250 | elapsed:   13.5s finished\n"
     ]
    },
    {
     "name": "stdout",
     "output_type": "stream",
     "text": [
      "______________________________________________\n",
      "Classifier: SVM\n",
      "Precision: 0.95\n",
      "Recall: 0.95\n",
      "F1-score: 0.9500000000000001\n",
      "______________________________________________\n",
      "                            precision    recall  f1-score   support\n",
      "\n",
      "     advanced maternal age       0.67      0.67      0.67         6\n",
      "    against medical advice       0.99      0.97      0.98        91\n",
      "antimitochondrial antibody       0.60      1.00      0.75         3\n",
      "\n",
      "                  accuracy                           0.95       100\n",
      "                 macro avg       0.75      0.88      0.80       100\n",
      "              weighted avg       0.96      0.95      0.95       100\n",
      "\n",
      "\n",
      "Window Size: 3\n",
      "Fitting 5 folds for each of 50 candidates, totalling 250 fits\n"
     ]
    },
    {
     "name": "stderr",
     "output_type": "stream",
     "text": [
      "[Parallel(n_jobs=-1)]: Using backend LokyBackend with 4 concurrent workers.\n",
      "[Parallel(n_jobs=-1)]: Done  42 tasks      | elapsed:    4.6s\n",
      "[Parallel(n_jobs=-1)]: Done 192 tasks      | elapsed:   18.4s\n",
      "[Parallel(n_jobs=-1)]: Done 250 out of 250 | elapsed:   25.7s finished\n"
     ]
    },
    {
     "name": "stdout",
     "output_type": "stream",
     "text": [
      "______________________________________________\n",
      "Classifier: SVM\n",
      "Precision: 0.95\n",
      "Recall: 0.95\n",
      "F1-score: 0.9500000000000001\n",
      "______________________________________________\n",
      "                            precision    recall  f1-score   support\n",
      "\n",
      "     advanced maternal age       0.67      0.67      0.67         6\n",
      "    against medical advice       1.00      0.97      0.98        92\n",
      "antimitochondrial antibody       0.40      1.00      0.57         2\n",
      "\n",
      "                  accuracy                           0.95       100\n",
      "                 macro avg       0.69      0.88      0.74       100\n",
      "              weighted avg       0.97      0.95      0.96       100\n",
      "\n",
      "\n",
      "Window Size: 4\n",
      "Fitting 5 folds for each of 50 candidates, totalling 250 fits\n"
     ]
    },
    {
     "name": "stderr",
     "output_type": "stream",
     "text": [
      "[Parallel(n_jobs=-1)]: Using backend LokyBackend with 4 concurrent workers.\n",
      "[Parallel(n_jobs=-1)]: Done  42 tasks      | elapsed:    5.8s\n",
      "[Parallel(n_jobs=-1)]: Done 192 tasks      | elapsed:   29.4s\n",
      "[Parallel(n_jobs=-1)]: Done 250 out of 250 | elapsed:   38.2s finished\n"
     ]
    },
    {
     "name": "stdout",
     "output_type": "stream",
     "text": [
      "______________________________________________\n",
      "Classifier: SVM\n",
      "Precision: 0.94\n",
      "Recall: 0.94\n",
      "F1-score: 0.94\n",
      "______________________________________________\n",
      "                            precision    recall  f1-score   support\n",
      "\n",
      "     advanced maternal age       0.50      0.60      0.55         5\n",
      "    against medical advice       1.00      0.96      0.98        93\n",
      "antimitochondrial antibody       0.40      1.00      0.57         2\n",
      "\n",
      "                  accuracy                           0.94       100\n",
      "                 macro avg       0.63      0.85      0.70       100\n",
      "              weighted avg       0.96      0.94      0.95       100\n",
      "\n",
      "\n",
      "Window Size: 5\n",
      "Fitting 5 folds for each of 50 candidates, totalling 250 fits\n"
     ]
    },
    {
     "name": "stderr",
     "output_type": "stream",
     "text": [
      "[Parallel(n_jobs=-1)]: Using backend LokyBackend with 4 concurrent workers.\n",
      "[Parallel(n_jobs=-1)]: Done  42 tasks      | elapsed:    8.3s\n",
      "[Parallel(n_jobs=-1)]: Done 192 tasks      | elapsed:   38.1s\n",
      "[Parallel(n_jobs=-1)]: Done 250 out of 250 | elapsed:   50.8s finished\n"
     ]
    },
    {
     "name": "stdout",
     "output_type": "stream",
     "text": [
      "______________________________________________\n",
      "Classifier: SVM\n",
      "Precision: 0.93\n",
      "Recall: 0.93\n",
      "F1-score: 0.93\n",
      "______________________________________________\n",
      "                            precision    recall  f1-score   support\n",
      "\n",
      "     advanced maternal age       0.67      0.44      0.53         9\n",
      "    against medical advice       0.99      0.98      0.98        90\n",
      "antimitochondrial antibody       0.20      1.00      0.33         1\n",
      "\n",
      "                  accuracy                           0.93       100\n",
      "                 macro avg       0.62      0.81      0.62       100\n",
      "              weighted avg       0.95      0.93      0.94       100\n",
      "\n",
      "\n",
      "***********************************************************\n",
      "Window Size: 1\n",
      "Fitting 5 folds for each of 50 candidates, totalling 250 fits\n"
     ]
    },
    {
     "name": "stderr",
     "output_type": "stream",
     "text": [
      "[Parallel(n_jobs=-1)]: Using backend LokyBackend with 4 concurrent workers.\n",
      "[Parallel(n_jobs=-1)]: Done 250 out of 250 | elapsed:    1.0s finished\n",
      "/Users/shushumacpro/opt/anaconda3/lib/python3.8/site-packages/sklearn/metrics/_classification.py:1221: UndefinedMetricWarning: Recall and F-score are ill-defined and being set to 0.0 in labels with no true samples. Use `zero_division` parameter to control this behavior.\n",
      "  _warn_prf(average, modifier, msg_start, len(result))\n",
      "[Parallel(n_jobs=-1)]: Using backend LokyBackend with 4 concurrent workers.\n"
     ]
    },
    {
     "name": "stdout",
     "output_type": "stream",
     "text": [
      "______________________________________________\n",
      "Classifier: K Nearest Neighbor\n",
      "Precision: 0.89\n",
      "Recall: 0.89\n",
      "F1-score: 0.89\n",
      "______________________________________________\n",
      "                            precision    recall  f1-score   support\n",
      "\n",
      "     advanced maternal age       0.50      0.27      0.35        11\n",
      "    against medical advice       0.97      0.97      0.97        89\n",
      "antimitochondrial antibody       0.00      0.00      0.00         0\n",
      "\n",
      "                  accuracy                           0.89       100\n",
      "                 macro avg       0.49      0.41      0.44       100\n",
      "              weighted avg       0.92      0.89      0.90       100\n",
      "\n",
      "\n",
      "Window Size: 2\n",
      "Fitting 5 folds for each of 50 candidates, totalling 250 fits\n"
     ]
    },
    {
     "name": "stderr",
     "output_type": "stream",
     "text": [
      "[Parallel(n_jobs=-1)]: Done 200 tasks      | elapsed:    1.7s\n",
      "[Parallel(n_jobs=-1)]: Done 250 out of 250 | elapsed:    2.0s finished\n",
      "/Users/shushumacpro/opt/anaconda3/lib/python3.8/site-packages/sklearn/metrics/_classification.py:1221: UndefinedMetricWarning: Recall and F-score are ill-defined and being set to 0.0 in labels with no true samples. Use `zero_division` parameter to control this behavior.\n",
      "  _warn_prf(average, modifier, msg_start, len(result))\n",
      "[Parallel(n_jobs=-1)]: Using backend LokyBackend with 4 concurrent workers.\n"
     ]
    },
    {
     "name": "stdout",
     "output_type": "stream",
     "text": [
      "______________________________________________\n",
      "Classifier: K Nearest Neighbor\n",
      "Precision: 0.88\n",
      "Recall: 0.88\n",
      "F1-score: 0.88\n",
      "______________________________________________\n",
      "                            precision    recall  f1-score   support\n",
      "\n",
      "     advanced maternal age       0.67      0.29      0.40        14\n",
      "    against medical advice       0.94      0.98      0.96        86\n",
      "antimitochondrial antibody       0.00      0.00      0.00         0\n",
      "\n",
      "                  accuracy                           0.88       100\n",
      "                 macro avg       0.54      0.42      0.45       100\n",
      "              weighted avg       0.91      0.88      0.88       100\n",
      "\n",
      "\n",
      "Window Size: 3\n",
      "Fitting 5 folds for each of 50 candidates, totalling 250 fits\n"
     ]
    },
    {
     "name": "stderr",
     "output_type": "stream",
     "text": [
      "[Parallel(n_jobs=-1)]: Done 128 tasks      | elapsed:    2.0s\n",
      "[Parallel(n_jobs=-1)]: Done 250 out of 250 | elapsed:    4.3s finished\n",
      "/Users/shushumacpro/opt/anaconda3/lib/python3.8/site-packages/sklearn/metrics/_classification.py:1221: UndefinedMetricWarning: Recall and F-score are ill-defined and being set to 0.0 in labels with no true samples. Use `zero_division` parameter to control this behavior.\n",
      "  _warn_prf(average, modifier, msg_start, len(result))\n",
      "[Parallel(n_jobs=-1)]: Using backend LokyBackend with 4 concurrent workers.\n"
     ]
    },
    {
     "name": "stdout",
     "output_type": "stream",
     "text": [
      "______________________________________________\n",
      "Classifier: K Nearest Neighbor\n",
      "Precision: 0.72\n",
      "Recall: 0.72\n",
      "F1-score: 0.72\n",
      "______________________________________________\n",
      "                            precision    recall  f1-score   support\n",
      "\n",
      "     advanced maternal age       0.83      0.16      0.26        32\n",
      "    against medical advice       0.75      0.99      0.85        68\n",
      "antimitochondrial antibody       0.00      0.00      0.00         0\n",
      "\n",
      "                  accuracy                           0.72       100\n",
      "                 macro avg       0.53      0.38      0.37       100\n",
      "              weighted avg       0.78      0.72      0.66       100\n",
      "\n",
      "\n",
      "Window Size: 4\n",
      "Fitting 5 folds for each of 50 candidates, totalling 250 fits\n"
     ]
    },
    {
     "name": "stderr",
     "output_type": "stream",
     "text": [
      "[Parallel(n_jobs=-1)]: Done  76 tasks      | elapsed:    1.8s\n",
      "[Parallel(n_jobs=-1)]: Done 250 out of 250 | elapsed:    6.2s finished\n",
      "/Users/shushumacpro/opt/anaconda3/lib/python3.8/site-packages/sklearn/metrics/_classification.py:1221: UndefinedMetricWarning: Recall and F-score are ill-defined and being set to 0.0 in labels with no true samples. Use `zero_division` parameter to control this behavior.\n",
      "  _warn_prf(average, modifier, msg_start, len(result))\n",
      "[Parallel(n_jobs=-1)]: Using backend LokyBackend with 4 concurrent workers.\n"
     ]
    },
    {
     "name": "stdout",
     "output_type": "stream",
     "text": [
      "______________________________________________\n",
      "Classifier: K Nearest Neighbor\n",
      "Precision: 0.55\n",
      "Recall: 0.55\n",
      "F1-score: 0.55\n",
      "______________________________________________\n",
      "                            precision    recall  f1-score   support\n",
      "\n",
      "     advanced maternal age       1.00      0.12      0.21        51\n",
      "    against medical advice       0.55      1.00      0.71        49\n",
      "antimitochondrial antibody       0.00      0.00      0.00         0\n",
      "\n",
      "                  accuracy                           0.55       100\n",
      "                 macro avg       0.52      0.37      0.31       100\n",
      "              weighted avg       0.78      0.55      0.46       100\n",
      "\n",
      "\n",
      "Window Size: 5\n",
      "Fitting 5 folds for each of 50 candidates, totalling 250 fits\n"
     ]
    },
    {
     "name": "stderr",
     "output_type": "stream",
     "text": [
      "[Parallel(n_jobs=-1)]: Done  76 tasks      | elapsed:    2.2s\n",
      "[Parallel(n_jobs=-1)]: Done 250 out of 250 | elapsed:    6.0s finished\n"
     ]
    },
    {
     "name": "stdout",
     "output_type": "stream",
     "text": [
      "______________________________________________\n",
      "Classifier: K Nearest Neighbor\n",
      "Precision: 0.74\n",
      "Recall: 0.74\n",
      "F1-score: 0.74\n",
      "______________________________________________\n",
      "                            precision    recall  f1-score   support\n",
      "\n",
      "     advanced maternal age       1.00      0.19      0.32        32\n",
      "    against medical advice       0.76      1.00      0.87        68\n",
      "antimitochondrial antibody       0.00      0.00      0.00         0\n",
      "\n",
      "                  accuracy                           0.74       100\n",
      "                 macro avg       0.59      0.40      0.39       100\n",
      "              weighted avg       0.84      0.74      0.69       100\n",
      "\n",
      "\n"
     ]
    },
    {
     "name": "stderr",
     "output_type": "stream",
     "text": [
      "/Users/shushumacpro/opt/anaconda3/lib/python3.8/site-packages/sklearn/metrics/_classification.py:1221: UndefinedMetricWarning: Recall and F-score are ill-defined and being set to 0.0 in labels with no true samples. Use `zero_division` parameter to control this behavior.\n",
      "  _warn_prf(average, modifier, msg_start, len(result))\n"
     ]
    }
   ],
   "source": [
    "features = {}\n",
    "names = {}\n",
    "\n",
    "for i in range(1,6):\n",
    "    features[i],names[i]=one_hot_features_single('AMA', i, feature_no=3, replace=True)#not use ald as they have number of sense=1\n",
    "\n",
    "# split train and test\n",
    "\n",
    "y=cr1['sense'].values\n",
    "\n",
    "train_X = {} \n",
    "test_X = {}\n",
    "train_y = {}\n",
    "test_y = {}\n",
    "\n",
    "for i in range(1,6):\n",
    "    train_X[i],test_X[i],train_y[i],test_y[i] = train_test_split(features[i], y, test_size=0.2, random_state=13, shuffle=True, stratify=y)\n",
    "    \n",
    "# Train model\n",
    "for i in range(1,6):\n",
    "    print('Window Size:', i)\n",
    "    display_metrics(\"Logistic Regression\",logistic_regression_pred(train_X[i],train_y[i],test_X[i]),test_y[i])\n",
    "\n",
    "print('***********************************************************')\n",
    "for i in range(1,6):\n",
    "    print('Window Size:', i)\n",
    "    display_metrics(\"SVM\",svm_pred(train_X[i],train_y[i],test_X[i]),test_y[i])\n",
    "\n",
    "print('***********************************************************')\n",
    "for i in range(1,6):\n",
    "    print('Window Size:', i)\n",
    "    display_metrics(\"K Nearest Neighbor\",knn_pred(train_X[i],train_y[i],test_X[i]),test_y[i])"
   ]
  },
  {
   "cell_type": "markdown",
   "metadata": {},
   "source": [
    "# For combined feature model(already decide windowsize=2)"
   ]
  },
  {
   "cell_type": "code",
   "execution_count": 23,
   "metadata": {
    "ExecuteTime": {
     "end_time": "2021-03-22T22:14:29.252067Z",
     "start_time": "2021-03-22T22:13:47.042291Z"
    }
   },
   "outputs": [
    {
     "name": "stdout",
     "output_type": "stream",
     "text": [
      "Features used: original+direction\n",
      "Fitting 5 folds for each of 50 candidates, totalling 250 fits\n"
     ]
    },
    {
     "name": "stderr",
     "output_type": "stream",
     "text": [
      "[Parallel(n_jobs=-1)]: Using backend LokyBackend with 16 concurrent workers.\n",
      "[Parallel(n_jobs=-1)]: Done  18 tasks      | elapsed:    0.2s\n",
      "[Parallel(n_jobs=-1)]: Done 219 out of 250 | elapsed:    1.6s remaining:    0.2s\n",
      "[Parallel(n_jobs=-1)]: Done 250 out of 250 | elapsed:    1.7s finished\n"
     ]
    },
    {
     "name": "stdout",
     "output_type": "stream",
     "text": [
      "______________________________________________\n",
      "Classifier: Logistic Regression\n",
      "Precision: 0.97\n",
      "Recall: 0.97\n",
      "F1-score: 0.97\n",
      "______________________________________________\n",
      "                            precision    recall  f1-score   support\n",
      "\n",
      "     advanced maternal age       0.67      1.00      0.80         4\n",
      "    against medical advice       1.00      0.97      0.98        92\n",
      "antimitochondrial antibody       0.80      1.00      0.89         4\n",
      "\n",
      "                  accuracy                           0.97       100\n",
      "                 macro avg       0.82      0.99      0.89       100\n",
      "              weighted avg       0.98      0.97      0.97       100\n",
      "\n",
      "\n",
      "Features used: original+dir_num\n",
      "Fitting 5 folds for each of 50 candidates, totalling 250 fits\n"
     ]
    },
    {
     "name": "stderr",
     "output_type": "stream",
     "text": [
      "[Parallel(n_jobs=-1)]: Using backend LokyBackend with 16 concurrent workers.\n",
      "[Parallel(n_jobs=-1)]: Done  18 tasks      | elapsed:    0.3s\n",
      "[Parallel(n_jobs=-1)]: Done 219 out of 250 | elapsed:    1.8s remaining:    0.3s\n",
      "[Parallel(n_jobs=-1)]: Done 250 out of 250 | elapsed:    2.0s finished\n"
     ]
    },
    {
     "name": "stdout",
     "output_type": "stream",
     "text": [
      "______________________________________________\n",
      "Classifier: Logistic Regression\n",
      "Precision: 0.97\n",
      "Recall: 0.97\n",
      "F1-score: 0.97\n",
      "______________________________________________\n",
      "                            precision    recall  f1-score   support\n",
      "\n",
      "     advanced maternal age       0.67      1.00      0.80         4\n",
      "    against medical advice       1.00      0.97      0.98        92\n",
      "antimitochondrial antibody       0.80      1.00      0.89         4\n",
      "\n",
      "                  accuracy                           0.97       100\n",
      "                 macro avg       0.82      0.99      0.89       100\n",
      "              weighted avg       0.98      0.97      0.97       100\n",
      "\n",
      "\n",
      "Features used: direction+dir_num\n",
      "Fitting 5 folds for each of 50 candidates, totalling 250 fits\n"
     ]
    },
    {
     "name": "stderr",
     "output_type": "stream",
     "text": [
      "[Parallel(n_jobs=-1)]: Using backend LokyBackend with 16 concurrent workers.\n",
      "[Parallel(n_jobs=-1)]: Done  18 tasks      | elapsed:    0.3s\n",
      "[Parallel(n_jobs=-1)]: Done 219 out of 250 | elapsed:    1.9s remaining:    0.3s\n",
      "[Parallel(n_jobs=-1)]: Done 250 out of 250 | elapsed:    2.1s finished\n"
     ]
    },
    {
     "name": "stdout",
     "output_type": "stream",
     "text": [
      "______________________________________________\n",
      "Classifier: Logistic Regression\n",
      "Precision: 0.95\n",
      "Recall: 0.95\n",
      "F1-score: 0.9500000000000001\n",
      "______________________________________________\n",
      "                            precision    recall  f1-score   support\n",
      "\n",
      "     advanced maternal age       0.67      0.80      0.73         5\n",
      "    against medical advice       0.99      0.97      0.98        91\n",
      "antimitochondrial antibody       0.60      0.75      0.67         4\n",
      "\n",
      "                  accuracy                           0.95       100\n",
      "                 macro avg       0.75      0.84      0.79       100\n",
      "              weighted avg       0.96      0.95      0.95       100\n",
      "\n",
      "\n",
      "***********************************************************\n",
      "Features used: original+direction\n",
      "Fitting 5 folds for each of 50 candidates, totalling 250 fits\n"
     ]
    },
    {
     "name": "stderr",
     "output_type": "stream",
     "text": [
      "[Parallel(n_jobs=-1)]: Using backend LokyBackend with 16 concurrent workers.\n",
      "[Parallel(n_jobs=-1)]: Done  18 tasks      | elapsed:    0.6s\n",
      "[Parallel(n_jobs=-1)]: Done 168 tasks      | elapsed:    4.1s\n",
      "[Parallel(n_jobs=-1)]: Done 250 out of 250 | elapsed:    6.1s finished\n"
     ]
    },
    {
     "name": "stdout",
     "output_type": "stream",
     "text": [
      "______________________________________________\n",
      "Classifier: SVM\n",
      "Precision: 0.97\n",
      "Recall: 0.97\n",
      "F1-score: 0.97\n",
      "______________________________________________\n",
      "                            precision    recall  f1-score   support\n",
      "\n",
      "     advanced maternal age       0.67      0.80      0.73         5\n",
      "    against medical advice       1.00      0.98      0.99        91\n",
      "antimitochondrial antibody       0.80      1.00      0.89         4\n",
      "\n",
      "                  accuracy                           0.97       100\n",
      "                 macro avg       0.82      0.93      0.87       100\n",
      "              weighted avg       0.98      0.97      0.97       100\n",
      "\n",
      "\n",
      "Features used: original+dir_num\n",
      "Fitting 5 folds for each of 50 candidates, totalling 250 fits\n"
     ]
    },
    {
     "name": "stderr",
     "output_type": "stream",
     "text": [
      "[Parallel(n_jobs=-1)]: Using backend LokyBackend with 16 concurrent workers.\n",
      "[Parallel(n_jobs=-1)]: Done  18 tasks      | elapsed:    0.7s\n",
      "[Parallel(n_jobs=-1)]: Done 168 tasks      | elapsed:    5.0s\n",
      "[Parallel(n_jobs=-1)]: Done 250 out of 250 | elapsed:    7.6s finished\n"
     ]
    },
    {
     "name": "stdout",
     "output_type": "stream",
     "text": [
      "______________________________________________\n",
      "Classifier: SVM\n",
      "Precision: 0.97\n",
      "Recall: 0.97\n",
      "F1-score: 0.97\n",
      "______________________________________________\n",
      "                            precision    recall  f1-score   support\n",
      "\n",
      "     advanced maternal age       0.67      1.00      0.80         4\n",
      "    against medical advice       1.00      0.97      0.98        92\n",
      "antimitochondrial antibody       0.80      1.00      0.89         4\n",
      "\n",
      "                  accuracy                           0.97       100\n",
      "                 macro avg       0.82      0.99      0.89       100\n",
      "              weighted avg       0.98      0.97      0.97       100\n",
      "\n",
      "\n",
      "Features used: direction+dir_num\n",
      "Fitting 5 folds for each of 50 candidates, totalling 250 fits\n"
     ]
    },
    {
     "name": "stderr",
     "output_type": "stream",
     "text": [
      "[Parallel(n_jobs=-1)]: Using backend LokyBackend with 16 concurrent workers.\n",
      "[Parallel(n_jobs=-1)]: Done  18 tasks      | elapsed:    0.8s\n",
      "[Parallel(n_jobs=-1)]: Done 168 tasks      | elapsed:    5.8s\n",
      "[Parallel(n_jobs=-1)]: Done 250 out of 250 | elapsed:    8.6s finished\n"
     ]
    },
    {
     "name": "stdout",
     "output_type": "stream",
     "text": [
      "______________________________________________\n",
      "Classifier: SVM\n",
      "Precision: 0.96\n",
      "Recall: 0.96\n",
      "F1-score: 0.96\n",
      "______________________________________________\n",
      "                            precision    recall  f1-score   support\n",
      "\n",
      "     advanced maternal age       0.67      0.80      0.73         5\n",
      "    against medical advice       1.00      0.97      0.98        92\n",
      "antimitochondrial antibody       0.60      1.00      0.75         3\n",
      "\n",
      "                  accuracy                           0.96       100\n",
      "                 macro avg       0.76      0.92      0.82       100\n",
      "              weighted avg       0.97      0.96      0.96       100\n",
      "\n",
      "\n",
      "***********************************************************\n",
      "Features used: original+direction\n",
      "Fitting 5 folds for each of 50 candidates, totalling 250 fits\n"
     ]
    },
    {
     "name": "stderr",
     "output_type": "stream",
     "text": [
      "[Parallel(n_jobs=-1)]: Using backend LokyBackend with 16 concurrent workers.\n",
      "[Parallel(n_jobs=-1)]: Done  18 tasks      | elapsed:    0.2s\n",
      "[Parallel(n_jobs=-1)]: Done 219 out of 250 | elapsed:    1.2s remaining:    0.2s\n",
      "[Parallel(n_jobs=-1)]: Done 250 out of 250 | elapsed:    1.4s finished\n"
     ]
    },
    {
     "name": "stdout",
     "output_type": "stream",
     "text": [
      "______________________________________________\n",
      "Classifier: K Nearest Neighbor\n",
      "Precision: 0.88\n",
      "Recall: 0.88\n",
      "F1-score: 0.88\n",
      "______________________________________________\n",
      "                            precision    recall  f1-score   support\n",
      "\n",
      "     advanced maternal age       0.67      0.29      0.40        14\n",
      "    against medical advice       0.94      0.98      0.96        86\n",
      "antimitochondrial antibody       0.00      0.00      0.00         0\n",
      "\n",
      "                  accuracy                           0.88       100\n",
      "                 macro avg       0.54      0.42      0.45       100\n",
      "              weighted avg       0.91      0.88      0.88       100\n",
      "\n",
      "\n",
      "Features used: original+dir_num\n",
      "Fitting 5 folds for each of 50 candidates, totalling 250 fits\n"
     ]
    },
    {
     "name": "stderr",
     "output_type": "stream",
     "text": [
      "/Users/zehao.yu/.pyenv/versions/miniconda3-latest/lib/python3.7/site-packages/sklearn/metrics/_classification.py:1221: UndefinedMetricWarning: Recall and F-score are ill-defined and being set to 0.0 in labels with no true samples. Use `zero_division` parameter to control this behavior.\n",
      "  _warn_prf(average, modifier, msg_start, len(result))\n",
      "[Parallel(n_jobs=-1)]: Using backend LokyBackend with 16 concurrent workers.\n",
      "[Parallel(n_jobs=-1)]: Done  18 tasks      | elapsed:    0.2s\n",
      "[Parallel(n_jobs=-1)]: Done 250 out of 250 | elapsed:    1.5s finished\n",
      "/Users/zehao.yu/.pyenv/versions/miniconda3-latest/lib/python3.7/site-packages/sklearn/metrics/_classification.py:1221: UndefinedMetricWarning: Recall and F-score are ill-defined and being set to 0.0 in labels with no true samples. Use `zero_division` parameter to control this behavior.\n",
      "  _warn_prf(average, modifier, msg_start, len(result))\n",
      "[Parallel(n_jobs=-1)]: Using backend LokyBackend with 16 concurrent workers.\n"
     ]
    },
    {
     "name": "stdout",
     "output_type": "stream",
     "text": [
      "______________________________________________\n",
      "Classifier: K Nearest Neighbor\n",
      "Precision: 0.88\n",
      "Recall: 0.88\n",
      "F1-score: 0.88\n",
      "______________________________________________\n",
      "                            precision    recall  f1-score   support\n",
      "\n",
      "     advanced maternal age       0.67      0.29      0.40        14\n",
      "    against medical advice       0.94      0.98      0.96        86\n",
      "antimitochondrial antibody       0.00      0.00      0.00         0\n",
      "\n",
      "                  accuracy                           0.88       100\n",
      "                 macro avg       0.54      0.42      0.45       100\n",
      "              weighted avg       0.91      0.88      0.88       100\n",
      "\n",
      "\n",
      "Features used: direction+dir_num\n",
      "Fitting 5 folds for each of 50 candidates, totalling 250 fits\n"
     ]
    },
    {
     "name": "stderr",
     "output_type": "stream",
     "text": [
      "[Parallel(n_jobs=-1)]: Done  18 tasks      | elapsed:    0.2s\n",
      "[Parallel(n_jobs=-1)]: Done 219 out of 250 | elapsed:    1.6s remaining:    0.2s\n",
      "[Parallel(n_jobs=-1)]: Done 250 out of 250 | elapsed:    1.8s finished\n"
     ]
    },
    {
     "name": "stdout",
     "output_type": "stream",
     "text": [
      "______________________________________________\n",
      "Classifier: K Nearest Neighbor\n",
      "Precision: 0.92\n",
      "Recall: 0.92\n",
      "F1-score: 0.92\n",
      "______________________________________________\n",
      "                            precision    recall  f1-score   support\n",
      "\n",
      "     advanced maternal age       0.67      0.44      0.53         9\n",
      "    against medical advice       0.99      0.97      0.98        91\n",
      "antimitochondrial antibody       0.00      0.00      0.00         0\n",
      "\n",
      "                  accuracy                           0.92       100\n",
      "                 macro avg       0.55      0.47      0.50       100\n",
      "              weighted avg       0.96      0.92      0.94       100\n",
      "\n",
      "\n"
     ]
    },
    {
     "name": "stderr",
     "output_type": "stream",
     "text": [
      "/Users/zehao.yu/.pyenv/versions/miniconda3-latest/lib/python3.7/site-packages/sklearn/metrics/_classification.py:1221: UndefinedMetricWarning: Recall and F-score are ill-defined and being set to 0.0 in labels with no true samples. Use `zero_division` parameter to control this behavior.\n",
      "  _warn_prf(average, modifier, msg_start, len(result))\n"
     ]
    }
   ],
   "source": [
    "features = {}\n",
    "names = {}\n",
    "num_used=[[1,2],[1,3],[2,3]]\n",
    "features_used_double=[0,'original+direction','original+dir_num','direction+dir_num']\n",
    "for i in range(1,4):#use 2 as window size\n",
    "    features[i],names[i]=one_hot_features_double('AMA', 2, feature_no=num_used[i-1][0],feature_no_2=num_used[i-1][1], replace=True)#not use ald as they have number of sense=1\n",
    "\n",
    "# split train and test\n",
    "\n",
    "y=cr1['sense'].values\n",
    "\n",
    "train_X = {} \n",
    "test_X = {}\n",
    "train_y = {}\n",
    "test_y = {}\n",
    "\n",
    "for i in range(1,4):\n",
    "    train_X[i],test_X[i],train_y[i],test_y[i] = train_test_split(features[i], y, test_size=0.2, random_state=13, shuffle=True, stratify=y)\n",
    "    \n",
    "# Train model\n",
    "for i in range(1,4):\n",
    "    print('Features used:', features_used_double[i])\n",
    "    display_metrics(\"Logistic Regression\",logistic_regression_pred(train_X[i],train_y[i],test_X[i]),test_y[i])\n",
    "\n",
    "print('***********************************************************')\n",
    "for i in range(1,4):\n",
    "    print('Features used:', features_used_double[i])\n",
    "    display_metrics(\"SVM\",svm_pred(train_X[i],train_y[i],test_X[i]),test_y[i])\n",
    "\n",
    "print('***********************************************************')\n",
    "for i in range(1,4):\n",
    "    print('Features used:', features_used_double[i])\n",
    "    display_metrics(\"K Nearest Neighbor\",knn_pred(train_X[i],train_y[i],test_X[i]),test_y[i])"
   ]
  },
  {
   "cell_type": "markdown",
   "metadata": {},
   "source": [
    "# error analysis in LR with 3 kinds features"
   ]
  },
  {
   "cell_type": "code",
   "execution_count": 26,
   "metadata": {
    "ExecuteTime": {
     "end_time": "2021-03-23T21:26:23.116839Z",
     "start_time": "2021-03-23T21:26:15.768673Z"
    }
   },
   "outputs": [
    {
     "name": "stdout",
     "output_type": "stream",
     "text": [
      "Fitting 5 folds for each of 50 candidates, totalling 250 fits\n"
     ]
    },
    {
     "name": "stderr",
     "output_type": "stream",
     "text": [
      "[Parallel(n_jobs=-1)]: Using backend LokyBackend with 16 concurrent workers.\n",
      "[Parallel(n_jobs=-1)]: Done  18 tasks      | elapsed:    2.0s\n",
      "[Parallel(n_jobs=-1)]: Done 208 tasks      | elapsed:    4.2s\n",
      "[Parallel(n_jobs=-1)]: Done 250 out of 250 | elapsed:    4.7s finished\n"
     ]
    }
   ],
   "source": [
    "\n",
    "features,names=one_hot_features('AMA', 2, replace=True)\n",
    "train_X,test_X,train_y,test_y = train_test_split(features, y, test_size=0.2, random_state=13, shuffle=True, stratify=y)\n",
    "y_pred=logistic_regression_pred(train_X, train_y, test_X)"
   ]
  },
  {
   "cell_type": "code",
   "execution_count": 30,
   "metadata": {
    "ExecuteTime": {
     "end_time": "2021-03-23T21:35:12.747202Z",
     "start_time": "2021-03-23T21:35:12.743961Z"
    }
   },
   "outputs": [],
   "source": [
    "X_error_an=cr1['features'].values"
   ]
  },
  {
   "cell_type": "code",
   "execution_count": 32,
   "metadata": {
    "ExecuteTime": {
     "end_time": "2021-03-23T21:36:55.373296Z",
     "start_time": "2021-03-23T21:36:55.366043Z"
    }
   },
   "outputs": [],
   "source": [
    "train_X_err,test_X_err,train_y,test_y = train_test_split(X_error_an, y, test_size=0.2, random_state=13, shuffle=True, stratify=y)\n"
   ]
  },
  {
   "cell_type": "code",
   "execution_count": 33,
   "metadata": {
    "ExecuteTime": {
     "end_time": "2021-03-23T21:36:56.305801Z",
     "start_time": "2021-03-23T21:36:56.302287Z"
    }
   },
   "outputs": [
    {
     "name": "stdout",
     "output_type": "stream",
     "text": [
      "test_x\n",
      "L5-sclerosing L4-cholangitis L3-but L2-if L1-an R1-has R2-not R3-been R4-done R5-this\n",
      "ture value:\n",
      "antimitochondrial antibody\n",
      "pred value:\n",
      "against medical advice\n",
      "test_x\n",
      "L5-weeks L4-ega L3-secondary L2-to L1-postdates R1-and R2-gestational R3-diabetes R4-diet R5-controlled\n",
      "ture value:\n",
      "advanced maternal age\n",
      "pred value:\n",
      "against medical advice\n",
      "test_x\n",
      "L2-she L1-is \n",
      "ture value:\n",
      "advanced maternal age\n",
      "pred value:\n",
      "against medical advice\n"
     ]
    }
   ],
   "source": [
    "for k,v in enumerate(y_pred):\n",
    "    if v!=test_y[k]:\n",
    "        print('test_x')\n",
    "        print(test_X_err[k])\n",
    "        print('ture value:')\n",
    "        print(test_y[k])\n",
    "        print('pred value:')\n",
    "        print(y_pred[k])\n",
    "        "
   ]
  },
  {
   "cell_type": "code",
   "execution_count": 36,
   "metadata": {
    "ExecuteTime": {
     "end_time": "2021-03-23T21:38:48.357000Z",
     "start_time": "2021-03-23T21:38:48.347631Z"
    }
   },
   "outputs": [
    {
     "data": {
      "text/html": [
       "<div>\n",
       "<style scoped>\n",
       "    .dataframe tbody tr th:only-of-type {\n",
       "        vertical-align: middle;\n",
       "    }\n",
       "\n",
       "    .dataframe tbody tr th {\n",
       "        vertical-align: top;\n",
       "    }\n",
       "\n",
       "    .dataframe thead th {\n",
       "        text-align: right;\n",
       "    }\n",
       "</style>\n",
       "<table border=\"1\" class=\"dataframe\">\n",
       "  <thead>\n",
       "    <tr style=\"text-align: right;\">\n",
       "      <th></th>\n",
       "      <th>abbrev</th>\n",
       "      <th>number_sense</th>\n",
       "      <th>sense</th>\n",
       "      <th>freq</th>\n",
       "      <th>percentage</th>\n",
       "    </tr>\n",
       "  </thead>\n",
       "  <tbody>\n",
       "    <tr>\n",
       "      <th>0</th>\n",
       "      <td>AMA</td>\n",
       "      <td>3</td>\n",
       "      <td>advanced maternal age</td>\n",
       "      <td>31</td>\n",
       "      <td>0.062</td>\n",
       "    </tr>\n",
       "    <tr>\n",
       "      <th>0</th>\n",
       "      <td>AMA</td>\n",
       "      <td>3</td>\n",
       "      <td>against medical advice</td>\n",
       "      <td>444</td>\n",
       "      <td>0.888</td>\n",
       "    </tr>\n",
       "    <tr>\n",
       "      <th>0</th>\n",
       "      <td>AMA</td>\n",
       "      <td>3</td>\n",
       "      <td>antimitochondrial antibody</td>\n",
       "      <td>25</td>\n",
       "      <td>0.050</td>\n",
       "    </tr>\n",
       "  </tbody>\n",
       "</table>\n",
       "</div>"
      ],
      "text/plain": [
       "  abbrev number_sense                       sense freq  percentage\n",
       "0    AMA            3       advanced maternal age   31       0.062\n",
       "0    AMA            3      against medical advice  444       0.888\n",
       "0    AMA            3  antimitochondrial antibody   25       0.050"
      ]
     },
     "execution_count": 36,
     "metadata": {},
     "output_type": "execute_result"
    }
   ],
   "source": [
    "abbrev_freq.loc[abbrev_freq.abbrev == \"AMA\"]"
   ]
  },
  {
   "cell_type": "code",
   "execution_count": null,
   "metadata": {},
   "outputs": [],
   "source": []
  }
 ],
 "metadata": {
  "kernelspec": {
   "display_name": "Python 3",
   "language": "python",
   "name": "python3"
  },
  "language_info": {
   "codemirror_mode": {
    "name": "ipython",
    "version": 3
   },
   "file_extension": ".py",
   "mimetype": "text/x-python",
   "name": "python",
   "nbconvert_exporter": "python",
   "pygments_lexer": "ipython3",
   "version": "3.7.6"
  }
 },
 "nbformat": 4,
 "nbformat_minor": 4
}
